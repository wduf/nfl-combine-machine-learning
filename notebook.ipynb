{
  "cells": [
    {
      "cell_type": "code",
      "execution_count": null,
      "metadata": {
        "id": "qeI4RZselEbQ"
      },
      "outputs": [],
      "source": [
        "import pandas as pd"
      ]
    },
    {
      "cell_type": "code",
      "execution_count": null,
      "metadata": {
        "id": "aLfl27wulrWe"
      },
      "outputs": [],
      "source": [
        "df = pd.read_csv('combine_data_since_2000_PROCESSED_2018-04-26.csv')"
      ]
    },
    {
      "cell_type": "code",
      "execution_count": null,
      "metadata": {
        "id": "3JpPMUJ6l1gR"
      },
      "outputs": [],
      "source": [
        "#df  # display data"
      ]
    },
    {
      "cell_type": "code",
      "execution_count": null,
      "metadata": {
        "id": "BjBBWj35maCE"
      },
      "outputs": [],
      "source": [
        "df = df.dropna()  # drop rows with null entries"
      ]
    },
    {
      "cell_type": "code",
      "source": [
        "#df = df.reset_index()\n",
        "#df.drop(['index'], axis=1,inplace=True)\n",
        "df"
      ],
      "metadata": {
        "colab": {
          "base_uri": "https://localhost:8080/",
          "height": 424
        },
        "id": "q0vXYnv53p93",
        "outputId": "1d3bb00a-88b4-4f87-ef00-4f6cecc7aeb6"
      },
      "execution_count": null,
      "outputs": [
        {
          "output_type": "execute_result",
          "data": {
            "text/plain": [
              "                Player Pos  Ht   Wt  Forty  Vertical  BenchReps  BroadJump  \\\n",
              "0       Darnell Alford  OT  76  334   5.56      25.0       23.0       94.0   \n",
              "1        Reggie Austin  CB  69  175   4.44      35.0       17.0      119.0   \n",
              "2       Rashidi Barnes  FS  72  208   4.62      35.0       10.0      114.0   \n",
              "3        David Barrett  CB  70  199   4.44      37.5       16.0      116.0   \n",
              "4       Rogers Beckett  FS  73  207   4.62      39.5       15.0      119.0   \n",
              "...                ...  ..  ..  ...    ...       ...        ...        ...   \n",
              "1782  TreDavious White  CB  71  192   4.47      32.0       16.0      119.0   \n",
              "1783      Joe Williams  RB  71  210   4.41      35.0       14.0      125.0   \n",
              "1784     Jordan Willis  DE  76  255   4.53      39.0       24.0      125.0   \n",
              "1785  Quincy Wilson-02  CB  73  211   4.54      32.0       14.0      118.0   \n",
              "1786      Xavier Woods  SS  71  197   4.54      33.5       19.0      122.0   \n",
              "\n",
              "      Cone  Shuttle  Year    Pfr_ID    AV                 Team  Round   Pick  \n",
              "0     8.48     4.98  2000  AlfoDa20   0.0   Kansas City Chiefs    6.0  188.0  \n",
              "1     7.03     4.14  2000  AustRe20   3.0        Chicago Bears    4.0  125.0  \n",
              "2     6.92     4.32  2000  BarnRa20   1.0     Cleveland Browns    7.0  225.0  \n",
              "3     6.81     4.04  2000  BarrDa22  10.0    Arizona Cardinals    4.0  102.0  \n",
              "4     6.48     4.29  2000  BeckRo20  12.0   San Diego Chargers    2.0   43.0  \n",
              "...    ...      ...   ...       ...   ...                  ...    ...    ...  \n",
              "1782  6.90     4.32  2017  WhitTr01   5.0        Buffalo Bills    1.0   27.0  \n",
              "1783  7.19     4.19  2017  WillJo12   0.0  San Francisco 49ers    4.0  121.0  \n",
              "1784  6.85     4.28  2017  WillJo09   2.0   Cincinnati Bengals    3.0   73.0  \n",
              "1785  6.86     4.02  2017  WilsQu01   2.0   Indianapolis Colts    2.0   46.0  \n",
              "1786  6.72     4.13  2017  WoodXa00   3.0       Dallas Cowboys    6.0  191.0  \n",
              "\n",
              "[1787 rows x 16 columns]"
            ],
            "text/html": [
              "\n",
              "  <div id=\"df-e6b33f33-788a-47cf-a8a7-4e06e86d1b63\">\n",
              "    <div class=\"colab-df-container\">\n",
              "      <div>\n",
              "<style scoped>\n",
              "    .dataframe tbody tr th:only-of-type {\n",
              "        vertical-align: middle;\n",
              "    }\n",
              "\n",
              "    .dataframe tbody tr th {\n",
              "        vertical-align: top;\n",
              "    }\n",
              "\n",
              "    .dataframe thead th {\n",
              "        text-align: right;\n",
              "    }\n",
              "</style>\n",
              "<table border=\"1\" class=\"dataframe\">\n",
              "  <thead>\n",
              "    <tr style=\"text-align: right;\">\n",
              "      <th></th>\n",
              "      <th>Player</th>\n",
              "      <th>Pos</th>\n",
              "      <th>Ht</th>\n",
              "      <th>Wt</th>\n",
              "      <th>Forty</th>\n",
              "      <th>Vertical</th>\n",
              "      <th>BenchReps</th>\n",
              "      <th>BroadJump</th>\n",
              "      <th>Cone</th>\n",
              "      <th>Shuttle</th>\n",
              "      <th>Year</th>\n",
              "      <th>Pfr_ID</th>\n",
              "      <th>AV</th>\n",
              "      <th>Team</th>\n",
              "      <th>Round</th>\n",
              "      <th>Pick</th>\n",
              "    </tr>\n",
              "  </thead>\n",
              "  <tbody>\n",
              "    <tr>\n",
              "      <th>0</th>\n",
              "      <td>Darnell Alford</td>\n",
              "      <td>OT</td>\n",
              "      <td>76</td>\n",
              "      <td>334</td>\n",
              "      <td>5.56</td>\n",
              "      <td>25.0</td>\n",
              "      <td>23.0</td>\n",
              "      <td>94.0</td>\n",
              "      <td>8.48</td>\n",
              "      <td>4.98</td>\n",
              "      <td>2000</td>\n",
              "      <td>AlfoDa20</td>\n",
              "      <td>0.0</td>\n",
              "      <td>Kansas City Chiefs</td>\n",
              "      <td>6.0</td>\n",
              "      <td>188.0</td>\n",
              "    </tr>\n",
              "    <tr>\n",
              "      <th>1</th>\n",
              "      <td>Reggie Austin</td>\n",
              "      <td>CB</td>\n",
              "      <td>69</td>\n",
              "      <td>175</td>\n",
              "      <td>4.44</td>\n",
              "      <td>35.0</td>\n",
              "      <td>17.0</td>\n",
              "      <td>119.0</td>\n",
              "      <td>7.03</td>\n",
              "      <td>4.14</td>\n",
              "      <td>2000</td>\n",
              "      <td>AustRe20</td>\n",
              "      <td>3.0</td>\n",
              "      <td>Chicago Bears</td>\n",
              "      <td>4.0</td>\n",
              "      <td>125.0</td>\n",
              "    </tr>\n",
              "    <tr>\n",
              "      <th>2</th>\n",
              "      <td>Rashidi Barnes</td>\n",
              "      <td>FS</td>\n",
              "      <td>72</td>\n",
              "      <td>208</td>\n",
              "      <td>4.62</td>\n",
              "      <td>35.0</td>\n",
              "      <td>10.0</td>\n",
              "      <td>114.0</td>\n",
              "      <td>6.92</td>\n",
              "      <td>4.32</td>\n",
              "      <td>2000</td>\n",
              "      <td>BarnRa20</td>\n",
              "      <td>1.0</td>\n",
              "      <td>Cleveland Browns</td>\n",
              "      <td>7.0</td>\n",
              "      <td>225.0</td>\n",
              "    </tr>\n",
              "    <tr>\n",
              "      <th>3</th>\n",
              "      <td>David Barrett</td>\n",
              "      <td>CB</td>\n",
              "      <td>70</td>\n",
              "      <td>199</td>\n",
              "      <td>4.44</td>\n",
              "      <td>37.5</td>\n",
              "      <td>16.0</td>\n",
              "      <td>116.0</td>\n",
              "      <td>6.81</td>\n",
              "      <td>4.04</td>\n",
              "      <td>2000</td>\n",
              "      <td>BarrDa22</td>\n",
              "      <td>10.0</td>\n",
              "      <td>Arizona Cardinals</td>\n",
              "      <td>4.0</td>\n",
              "      <td>102.0</td>\n",
              "    </tr>\n",
              "    <tr>\n",
              "      <th>4</th>\n",
              "      <td>Rogers Beckett</td>\n",
              "      <td>FS</td>\n",
              "      <td>73</td>\n",
              "      <td>207</td>\n",
              "      <td>4.62</td>\n",
              "      <td>39.5</td>\n",
              "      <td>15.0</td>\n",
              "      <td>119.0</td>\n",
              "      <td>6.48</td>\n",
              "      <td>4.29</td>\n",
              "      <td>2000</td>\n",
              "      <td>BeckRo20</td>\n",
              "      <td>12.0</td>\n",
              "      <td>San Diego Chargers</td>\n",
              "      <td>2.0</td>\n",
              "      <td>43.0</td>\n",
              "    </tr>\n",
              "    <tr>\n",
              "      <th>...</th>\n",
              "      <td>...</td>\n",
              "      <td>...</td>\n",
              "      <td>...</td>\n",
              "      <td>...</td>\n",
              "      <td>...</td>\n",
              "      <td>...</td>\n",
              "      <td>...</td>\n",
              "      <td>...</td>\n",
              "      <td>...</td>\n",
              "      <td>...</td>\n",
              "      <td>...</td>\n",
              "      <td>...</td>\n",
              "      <td>...</td>\n",
              "      <td>...</td>\n",
              "      <td>...</td>\n",
              "      <td>...</td>\n",
              "    </tr>\n",
              "    <tr>\n",
              "      <th>1782</th>\n",
              "      <td>TreDavious White</td>\n",
              "      <td>CB</td>\n",
              "      <td>71</td>\n",
              "      <td>192</td>\n",
              "      <td>4.47</td>\n",
              "      <td>32.0</td>\n",
              "      <td>16.0</td>\n",
              "      <td>119.0</td>\n",
              "      <td>6.90</td>\n",
              "      <td>4.32</td>\n",
              "      <td>2017</td>\n",
              "      <td>WhitTr01</td>\n",
              "      <td>5.0</td>\n",
              "      <td>Buffalo Bills</td>\n",
              "      <td>1.0</td>\n",
              "      <td>27.0</td>\n",
              "    </tr>\n",
              "    <tr>\n",
              "      <th>1783</th>\n",
              "      <td>Joe Williams</td>\n",
              "      <td>RB</td>\n",
              "      <td>71</td>\n",
              "      <td>210</td>\n",
              "      <td>4.41</td>\n",
              "      <td>35.0</td>\n",
              "      <td>14.0</td>\n",
              "      <td>125.0</td>\n",
              "      <td>7.19</td>\n",
              "      <td>4.19</td>\n",
              "      <td>2017</td>\n",
              "      <td>WillJo12</td>\n",
              "      <td>0.0</td>\n",
              "      <td>San Francisco 49ers</td>\n",
              "      <td>4.0</td>\n",
              "      <td>121.0</td>\n",
              "    </tr>\n",
              "    <tr>\n",
              "      <th>1784</th>\n",
              "      <td>Jordan Willis</td>\n",
              "      <td>DE</td>\n",
              "      <td>76</td>\n",
              "      <td>255</td>\n",
              "      <td>4.53</td>\n",
              "      <td>39.0</td>\n",
              "      <td>24.0</td>\n",
              "      <td>125.0</td>\n",
              "      <td>6.85</td>\n",
              "      <td>4.28</td>\n",
              "      <td>2017</td>\n",
              "      <td>WillJo09</td>\n",
              "      <td>2.0</td>\n",
              "      <td>Cincinnati Bengals</td>\n",
              "      <td>3.0</td>\n",
              "      <td>73.0</td>\n",
              "    </tr>\n",
              "    <tr>\n",
              "      <th>1785</th>\n",
              "      <td>Quincy Wilson-02</td>\n",
              "      <td>CB</td>\n",
              "      <td>73</td>\n",
              "      <td>211</td>\n",
              "      <td>4.54</td>\n",
              "      <td>32.0</td>\n",
              "      <td>14.0</td>\n",
              "      <td>118.0</td>\n",
              "      <td>6.86</td>\n",
              "      <td>4.02</td>\n",
              "      <td>2017</td>\n",
              "      <td>WilsQu01</td>\n",
              "      <td>2.0</td>\n",
              "      <td>Indianapolis Colts</td>\n",
              "      <td>2.0</td>\n",
              "      <td>46.0</td>\n",
              "    </tr>\n",
              "    <tr>\n",
              "      <th>1786</th>\n",
              "      <td>Xavier Woods</td>\n",
              "      <td>SS</td>\n",
              "      <td>71</td>\n",
              "      <td>197</td>\n",
              "      <td>4.54</td>\n",
              "      <td>33.5</td>\n",
              "      <td>19.0</td>\n",
              "      <td>122.0</td>\n",
              "      <td>6.72</td>\n",
              "      <td>4.13</td>\n",
              "      <td>2017</td>\n",
              "      <td>WoodXa00</td>\n",
              "      <td>3.0</td>\n",
              "      <td>Dallas Cowboys</td>\n",
              "      <td>6.0</td>\n",
              "      <td>191.0</td>\n",
              "    </tr>\n",
              "  </tbody>\n",
              "</table>\n",
              "<p>1787 rows × 16 columns</p>\n",
              "</div>\n",
              "      <button class=\"colab-df-convert\" onclick=\"convertToInteractive('df-e6b33f33-788a-47cf-a8a7-4e06e86d1b63')\"\n",
              "              title=\"Convert this dataframe to an interactive table.\"\n",
              "              style=\"display:none;\">\n",
              "        \n",
              "  <svg xmlns=\"http://www.w3.org/2000/svg\" height=\"24px\"viewBox=\"0 0 24 24\"\n",
              "       width=\"24px\">\n",
              "    <path d=\"M0 0h24v24H0V0z\" fill=\"none\"/>\n",
              "    <path d=\"M18.56 5.44l.94 2.06.94-2.06 2.06-.94-2.06-.94-.94-2.06-.94 2.06-2.06.94zm-11 1L8.5 8.5l.94-2.06 2.06-.94-2.06-.94L8.5 2.5l-.94 2.06-2.06.94zm10 10l.94 2.06.94-2.06 2.06-.94-2.06-.94-.94-2.06-.94 2.06-2.06.94z\"/><path d=\"M17.41 7.96l-1.37-1.37c-.4-.4-.92-.59-1.43-.59-.52 0-1.04.2-1.43.59L10.3 9.45l-7.72 7.72c-.78.78-.78 2.05 0 2.83L4 21.41c.39.39.9.59 1.41.59.51 0 1.02-.2 1.41-.59l7.78-7.78 2.81-2.81c.8-.78.8-2.07 0-2.86zM5.41 20L4 18.59l7.72-7.72 1.47 1.35L5.41 20z\"/>\n",
              "  </svg>\n",
              "      </button>\n",
              "      \n",
              "  <style>\n",
              "    .colab-df-container {\n",
              "      display:flex;\n",
              "      flex-wrap:wrap;\n",
              "      gap: 12px;\n",
              "    }\n",
              "\n",
              "    .colab-df-convert {\n",
              "      background-color: #E8F0FE;\n",
              "      border: none;\n",
              "      border-radius: 50%;\n",
              "      cursor: pointer;\n",
              "      display: none;\n",
              "      fill: #1967D2;\n",
              "      height: 32px;\n",
              "      padding: 0 0 0 0;\n",
              "      width: 32px;\n",
              "    }\n",
              "\n",
              "    .colab-df-convert:hover {\n",
              "      background-color: #E2EBFA;\n",
              "      box-shadow: 0px 1px 2px rgba(60, 64, 67, 0.3), 0px 1px 3px 1px rgba(60, 64, 67, 0.15);\n",
              "      fill: #174EA6;\n",
              "    }\n",
              "\n",
              "    [theme=dark] .colab-df-convert {\n",
              "      background-color: #3B4455;\n",
              "      fill: #D2E3FC;\n",
              "    }\n",
              "\n",
              "    [theme=dark] .colab-df-convert:hover {\n",
              "      background-color: #434B5C;\n",
              "      box-shadow: 0px 1px 3px 1px rgba(0, 0, 0, 0.15);\n",
              "      filter: drop-shadow(0px 1px 2px rgba(0, 0, 0, 0.3));\n",
              "      fill: #FFFFFF;\n",
              "    }\n",
              "  </style>\n",
              "\n",
              "      <script>\n",
              "        const buttonEl =\n",
              "          document.querySelector('#df-e6b33f33-788a-47cf-a8a7-4e06e86d1b63 button.colab-df-convert');\n",
              "        buttonEl.style.display =\n",
              "          google.colab.kernel.accessAllowed ? 'block' : 'none';\n",
              "\n",
              "        async function convertToInteractive(key) {\n",
              "          const element = document.querySelector('#df-e6b33f33-788a-47cf-a8a7-4e06e86d1b63');\n",
              "          const dataTable =\n",
              "            await google.colab.kernel.invokeFunction('convertToInteractive',\n",
              "                                                     [key], {});\n",
              "          if (!dataTable) return;\n",
              "\n",
              "          const docLinkHtml = 'Like what you see? Visit the ' +\n",
              "            '<a target=\"_blank\" href=https://colab.research.google.com/notebooks/data_table.ipynb>data table notebook</a>'\n",
              "            + ' to learn more about interactive tables.';\n",
              "          element.innerHTML = '';\n",
              "          dataTable['output_type'] = 'display_data';\n",
              "          await google.colab.output.renderOutput(dataTable, element);\n",
              "          const docLink = document.createElement('div');\n",
              "          docLink.innerHTML = docLinkHtml;\n",
              "          element.appendChild(docLink);\n",
              "        }\n",
              "      </script>\n",
              "    </div>\n",
              "  </div>\n",
              "  "
            ]
          },
          "metadata": {},
          "execution_count": 74
        }
      ]
    },
    {
      "cell_type": "markdown",
      "metadata": {
        "id": "MgxiplLS22aM"
      },
      "source": [
        "initialize all data frames and targets\n",
        "\n",
        "\n"
      ]
    },
    {
      "cell_type": "code",
      "execution_count": null,
      "metadata": {
        "id": "-EatdHpEqPgs"
      },
      "outputs": [],
      "source": [
        "all_target = df['Pick']\n",
        "df_all = df.drop(['Player', 'Pos', 'Pfr_ID', 'Team', 'Pick', 'Year' ,'AV', 'Round'], axis=1)\n",
        "\n",
        "# wr\n",
        "df_wr = df[df['Pos'] == 'WR']\n",
        "wr_target = df_wr[['Pick']]\n",
        "df_wr = df_wr.drop(['Player', 'Pos', 'Pfr_ID', 'Team', 'Pick', 'Year' ,'AV', 'Round'], axis=1)\n",
        "\n",
        "# cb\n",
        "df_cb = df[df['Pos'] == 'CB']\n",
        "cb_target = df_cb[['Pick']]\n",
        "df_cb = df_cb.drop(['Player', 'Pos', 'Pfr_ID', 'Team', 'Pick', 'Year' ,'AV', 'Round'], axis=1)\n",
        "\n",
        "# og\n",
        "df_og = df[df['Pos'] == 'OG']\n",
        "og_target = df_og[['Pick']]\n",
        "df_og = df_og.drop(['Player', 'Pos', 'Pfr_ID', 'Team', 'Pick', 'Year' ,'AV', 'Round'], axis=1)\n",
        "\n",
        "# dt\n",
        "df_dt = df[df['Pos'] == 'DT']\n",
        "dt_target = df_dt[['Pick']]\n",
        "df_dt = df_dt.drop(['Player', 'Pos', 'Pfr_ID', 'Team', 'Pick', 'Year' ,'AV', 'Round'], axis=1)"
      ]
    },
    {
      "cell_type": "code",
      "source": [
        "import seaborn as sns\n",
        "sns.heatmap(df_all.corr())"
      ],
      "metadata": {
        "colab": {
          "base_uri": "https://localhost:8080/",
          "height": 332
        },
        "id": "srUqssHBwoGQ",
        "outputId": "12965802-e390-49bf-e5dc-9549bfe7a4cc"
      },
      "execution_count": null,
      "outputs": [
        {
          "output_type": "execute_result",
          "data": {
            "text/plain": [
              "<matplotlib.axes._subplots.AxesSubplot at 0x7f5cc4e3bc90>"
            ]
          },
          "metadata": {},
          "execution_count": 76
        },
        {
          "output_type": "display_data",
          "data": {
            "text/plain": [
              "<Figure size 432x288 with 2 Axes>"
            ],
            "image/png": "[encoded data removed]"
          },
          "metadata": {
            "needs_background": "light"
          }
        }
      ]
    },
    {
      "cell_type": "code",
      "source": [
        "df_all.corr()"
      ],
      "metadata": {
        "colab": {
          "base_uri": "https://localhost:8080/",
          "height": 300
        },
        "id": "KPimpqMew1co",
        "outputId": "8cfd28fe-4317-45d6-d3b5-68ae12109905"
      },
      "execution_count": null,
      "outputs": [
        {
          "output_type": "execute_result",
          "data": {
            "text/plain": [
              "                 Ht        Wt     Forty  Vertical  BenchReps  BroadJump  \\\n",
              "Ht         1.000000  0.760141  0.638481 -0.457322   0.402897  -0.460546   \n",
              "Wt         0.760141  1.000000  0.897970 -0.689945   0.653970  -0.766660   \n",
              "Forty      0.638481  0.897970  1.000000 -0.750163   0.494215  -0.829440   \n",
              "Vertical  -0.457322 -0.689945 -0.750163  1.000000  -0.349829   0.812754   \n",
              "BenchReps  0.402897  0.653970  0.494215 -0.349829   1.000000  -0.421608   \n",
              "BroadJump -0.460546 -0.766660 -0.829440  0.812754  -0.421608   1.000000   \n",
              "Cone       0.542703  0.817496  0.825045 -0.671589   0.468888  -0.746051   \n",
              "Shuttle    0.562288  0.781780  0.776900 -0.689056   0.424903  -0.722947   \n",
              "\n",
              "               Cone   Shuttle  \n",
              "Ht         0.542703  0.562288  \n",
              "Wt         0.817496  0.781780  \n",
              "Forty      0.825045  0.776900  \n",
              "Vertical  -0.671589 -0.689056  \n",
              "BenchReps  0.468888  0.424903  \n",
              "BroadJump -0.746051 -0.722947  \n",
              "Cone       1.000000  0.839235  \n",
              "Shuttle    0.839235  1.000000  "
            ],
            "text/html": [
              "\n",
              "  <div id=\"df-911eadce-d589-4702-a339-158fa77aa6ab\">\n",
              "    <div class=\"colab-df-container\">\n",
              "      <div>\n",
              "<style scoped>\n",
              "    .dataframe tbody tr th:only-of-type {\n",
              "        vertical-align: middle;\n",
              "    }\n",
              "\n",
              "    .dataframe tbody tr th {\n",
              "        vertical-align: top;\n",
              "    }\n",
              "\n",
              "    .dataframe thead th {\n",
              "        text-align: right;\n",
              "    }\n",
              "</style>\n",
              "<table border=\"1\" class=\"dataframe\">\n",
              "  <thead>\n",
              "    <tr style=\"text-align: right;\">\n",
              "      <th></th>\n",
              "      <th>Ht</th>\n",
              "      <th>Wt</th>\n",
              "      <th>Forty</th>\n",
              "      <th>Vertical</th>\n",
              "      <th>BenchReps</th>\n",
              "      <th>BroadJump</th>\n",
              "      <th>Cone</th>\n",
              "      <th>Shuttle</th>\n",
              "    </tr>\n",
              "  </thead>\n",
              "  <tbody>\n",
              "    <tr>\n",
              "      <th>Ht</th>\n",
              "      <td>1.000000</td>\n",
              "      <td>0.760141</td>\n",
              "      <td>0.638481</td>\n",
              "      <td>-0.457322</td>\n",
              "      <td>0.402897</td>\n",
              "      <td>-0.460546</td>\n",
              "      <td>0.542703</td>\n",
              "      <td>0.562288</td>\n",
              "    </tr>\n",
              "    <tr>\n",
              "      <th>Wt</th>\n",
              "      <td>0.760141</td>\n",
              "      <td>1.000000</td>\n",
              "      <td>0.897970</td>\n",
              "      <td>-0.689945</td>\n",
              "      <td>0.653970</td>\n",
              "      <td>-0.766660</td>\n",
              "      <td>0.817496</td>\n",
              "      <td>0.781780</td>\n",
              "    </tr>\n",
              "    <tr>\n",
              "      <th>Forty</th>\n",
              "      <td>0.638481</td>\n",
              "      <td>0.897970</td>\n",
              "      <td>1.000000</td>\n",
              "      <td>-0.750163</td>\n",
              "      <td>0.494215</td>\n",
              "      <td>-0.829440</td>\n",
              "      <td>0.825045</td>\n",
              "      <td>0.776900</td>\n",
              "    </tr>\n",
              "    <tr>\n",
              "      <th>Vertical</th>\n",
              "      <td>-0.457322</td>\n",
              "      <td>-0.689945</td>\n",
              "      <td>-0.750163</td>\n",
              "      <td>1.000000</td>\n",
              "      <td>-0.349829</td>\n",
              "      <td>0.812754</td>\n",
              "      <td>-0.671589</td>\n",
              "      <td>-0.689056</td>\n",
              "    </tr>\n",
              "    <tr>\n",
              "      <th>BenchReps</th>\n",
              "      <td>0.402897</td>\n",
              "      <td>0.653970</td>\n",
              "      <td>0.494215</td>\n",
              "      <td>-0.349829</td>\n",
              "      <td>1.000000</td>\n",
              "      <td>-0.421608</td>\n",
              "      <td>0.468888</td>\n",
              "      <td>0.424903</td>\n",
              "    </tr>\n",
              "    <tr>\n",
              "      <th>BroadJump</th>\n",
              "      <td>-0.460546</td>\n",
              "      <td>-0.766660</td>\n",
              "      <td>-0.829440</td>\n",
              "      <td>0.812754</td>\n",
              "      <td>-0.421608</td>\n",
              "      <td>1.000000</td>\n",
              "      <td>-0.746051</td>\n",
              "      <td>-0.722947</td>\n",
              "    </tr>\n",
              "    <tr>\n",
              "      <th>Cone</th>\n",
              "      <td>0.542703</td>\n",
              "      <td>0.817496</td>\n",
              "      <td>0.825045</td>\n",
              "      <td>-0.671589</td>\n",
              "      <td>0.468888</td>\n",
              "      <td>-0.746051</td>\n",
              "      <td>1.000000</td>\n",
              "      <td>0.839235</td>\n",
              "    </tr>\n",
              "    <tr>\n",
              "      <th>Shuttle</th>\n",
              "      <td>0.562288</td>\n",
              "      <td>0.781780</td>\n",
              "      <td>0.776900</td>\n",
              "      <td>-0.689056</td>\n",
              "      <td>0.424903</td>\n",
              "      <td>-0.722947</td>\n",
              "      <td>0.839235</td>\n",
              "      <td>1.000000</td>\n",
              "    </tr>\n",
              "  </tbody>\n",
              "</table>\n",
              "</div>\n",
              "      <button class=\"colab-df-convert\" onclick=\"convertToInteractive('df-911eadce-d589-4702-a339-158fa77aa6ab')\"\n",
              "              title=\"Convert this dataframe to an interactive table.\"\n",
              "              style=\"display:none;\">\n",
              "        \n",
              "  <svg xmlns=\"http://www.w3.org/2000/svg\" height=\"24px\"viewBox=\"0 0 24 24\"\n",
              "       width=\"24px\">\n",
              "    <path d=\"M0 0h24v24H0V0z\" fill=\"none\"/>\n",
              "    <path d=\"M18.56 5.44l.94 2.06.94-2.06 2.06-.94-2.06-.94-.94-2.06-.94 2.06-2.06.94zm-11 1L8.5 8.5l.94-2.06 2.06-.94-2.06-.94L8.5 2.5l-.94 2.06-2.06.94zm10 10l.94 2.06.94-2.06 2.06-.94-2.06-.94-.94-2.06-.94 2.06-2.06.94z\"/><path d=\"M17.41 7.96l-1.37-1.37c-.4-.4-.92-.59-1.43-.59-.52 0-1.04.2-1.43.59L10.3 9.45l-7.72 7.72c-.78.78-.78 2.05 0 2.83L4 21.41c.39.39.9.59 1.41.59.51 0 1.02-.2 1.41-.59l7.78-7.78 2.81-2.81c.8-.78.8-2.07 0-2.86zM5.41 20L4 18.59l7.72-7.72 1.47 1.35L5.41 20z\"/>\n",
              "  </svg>\n",
              "      </button>\n",
              "      \n",
              "  <style>\n",
              "    .colab-df-container {\n",
              "      display:flex;\n",
              "      flex-wrap:wrap;\n",
              "      gap: 12px;\n",
              "    }\n",
              "\n",
              "    .colab-df-convert {\n",
              "      background-color: #E8F0FE;\n",
              "      border: none;\n",
              "      border-radius: 50%;\n",
              "      cursor: pointer;\n",
              "      display: none;\n",
              "      fill: #1967D2;\n",
              "      height: 32px;\n",
              "      padding: 0 0 0 0;\n",
              "      width: 32px;\n",
              "    }\n",
              "\n",
              "    .colab-df-convert:hover {\n",
              "      background-color: #E2EBFA;\n",
              "      box-shadow: 0px 1px 2px rgba(60, 64, 67, 0.3), 0px 1px 3px 1px rgba(60, 64, 67, 0.15);\n",
              "      fill: #174EA6;\n",
              "    }\n",
              "\n",
              "    [theme=dark] .colab-df-convert {\n",
              "      background-color: #3B4455;\n",
              "      fill: #D2E3FC;\n",
              "    }\n",
              "\n",
              "    [theme=dark] .colab-df-convert:hover {\n",
              "      background-color: #434B5C;\n",
              "      box-shadow: 0px 1px 3px 1px rgba(0, 0, 0, 0.15);\n",
              "      filter: drop-shadow(0px 1px 2px rgba(0, 0, 0, 0.3));\n",
              "      fill: #FFFFFF;\n",
              "    }\n",
              "  </style>\n",
              "\n",
              "      <script>\n",
              "        const buttonEl =\n",
              "          document.querySelector('#df-911eadce-d589-4702-a339-158fa77aa6ab button.colab-df-convert');\n",
              "        buttonEl.style.display =\n",
              "          google.colab.kernel.accessAllowed ? 'block' : 'none';\n",
              "\n",
              "        async function convertToInteractive(key) {\n",
              "          const element = document.querySelector('#df-911eadce-d589-4702-a339-158fa77aa6ab');\n",
              "          const dataTable =\n",
              "            await google.colab.kernel.invokeFunction('convertToInteractive',\n",
              "                                                     [key], {});\n",
              "          if (!dataTable) return;\n",
              "\n",
              "          const docLinkHtml = 'Like what you see? Visit the ' +\n",
              "            '<a target=\"_blank\" href=https://colab.research.google.com/notebooks/data_table.ipynb>data table notebook</a>'\n",
              "            + ' to learn more about interactive tables.';\n",
              "          element.innerHTML = '';\n",
              "          dataTable['output_type'] = 'display_data';\n",
              "          await google.colab.output.renderOutput(dataTable, element);\n",
              "          const docLink = document.createElement('div');\n",
              "          docLink.innerHTML = docLinkHtml;\n",
              "          element.appendChild(docLink);\n",
              "        }\n",
              "      </script>\n",
              "    </div>\n",
              "  </div>\n",
              "  "
            ]
          },
          "metadata": {},
          "execution_count": 9
        }
      ]
    },
    {
      "cell_type": "code",
      "source": [
        "print('wr summary stats ', df_wr.describe())\n",
        "print('dt summary stats ',df_cb.describe())\n"
      ],
      "metadata": {
        "colab": {
          "base_uri": "https://localhost:8080/"
        },
        "id": "1WHtYKoIcUmn",
        "outputId": "3c79105f-13f9-4fb3-d967-b7e6694c88d5"
      },
      "execution_count": null,
      "outputs": [
        {
          "output_type": "stream",
          "name": "stdout",
          "text": [
            "wr summary stats                 Ht          Wt       Forty    Vertical   BenchReps   BroadJump  \\\n",
            "count  145.000000  145.000000  145.000000  145.000000  145.000000  145.000000   \n",
            "mean    72.510345  202.593103    4.467310   35.724138   14.675862  121.537931   \n",
            "std      2.351469   14.756588    0.086556    3.108529    4.385713    5.722787   \n",
            "min     65.000000  166.000000    4.260000   26.000000    4.000000  105.000000   \n",
            "25%     71.000000  192.000000    4.410000   33.500000   11.000000  118.000000   \n",
            "50%     73.000000  202.000000    4.460000   35.500000   15.000000  121.000000   \n",
            "75%     74.000000  211.000000    4.530000   37.500000   18.000000  125.000000   \n",
            "max     78.000000  244.000000    4.680000   45.000000   27.000000  139.000000   \n",
            "\n",
            "             Cone     Shuttle  \n",
            "count  145.000000  145.000000  \n",
            "mean     6.888828    4.224621  \n",
            "std      0.173740    0.143130  \n",
            "min      6.500000    3.810000  \n",
            "25%      6.770000    4.130000  \n",
            "50%      6.900000    4.210000  \n",
            "75%      7.020000    4.330000  \n",
            "max      7.340000    4.600000  \n",
            "dt summary stats                 Ht          Wt       Forty    Vertical   BenchReps   BroadJump  \\\n",
            "count  220.000000  220.000000  220.000000  220.000000  220.000000  220.000000   \n",
            "mean    71.077273  193.177273    4.469000   36.184091   14.827273  122.140909   \n",
            "std      1.458226    8.633609    0.083883    2.663206    4.121132    5.324464   \n",
            "min     68.000000  171.000000    4.280000   28.500000    2.000000  109.000000   \n",
            "25%     70.000000  188.000000    4.410000   34.500000   12.000000  118.000000   \n",
            "50%     71.000000  193.000000    4.470000   36.000000   15.000000  122.000000   \n",
            "75%     72.000000  198.000000    4.520000   38.000000   17.000000  126.000000   \n",
            "max     75.000000  219.000000    4.680000   45.000000   27.000000  137.000000   \n",
            "\n",
            "             Cone     Shuttle  \n",
            "count  220.000000  220.000000  \n",
            "mean     6.924545    4.146227  \n",
            "std      0.201327    0.150187  \n",
            "min      6.440000    3.750000  \n",
            "25%      6.780000    4.057500  \n",
            "50%      6.930000    4.150000  \n",
            "75%      7.072500    4.252500  \n",
            "max      7.450000    4.760000  \n"
          ]
        }
      ]
    },
    {
      "cell_type": "markdown",
      "source": [
        "#Conducting PCA to limit the multi-collinearity of the Data"
      ],
      "metadata": {
        "id": "aZccHQDv-stJ"
      }
    },
    {
      "cell_type": "code",
      "source": [
        "from sklearn import preprocessing\n",
        "from sklearn.preprocessing import StandardScaler\n",
        "#Saving a copy of the original dataframe\n",
        "\n",
        "\n",
        "scaler = StandardScaler()\n",
        "scaler.fit(df_all)\n",
        "x_scaled = scaler.transform(df_all)\n",
        "x_normal = pd.DataFrame(x_scaled, columns=df_all.columns)"
      ],
      "metadata": {
        "id": "OpvQjmFWxNQQ"
      },
      "execution_count": null,
      "outputs": []
    },
    {
      "cell_type": "code",
      "source": [
        "from sklearn.decomposition import PCA\n",
        "from sklearn import preprocessing \n",
        "import matplotlib.pyplot as plt\n",
        "import numpy as np\n",
        "\n",
        "def cm_to_inch(value):\n",
        "    return value/2.54\n",
        "\n",
        "\n",
        "plt.figure(figsize=(cm_to_inch(20), cm_to_inch(10)))\n",
        "pca = PCA()\n",
        "pca.fit(x_normal)\n",
        "pca_data = pca.transform(x_normal)\n",
        "\n",
        "\n",
        "per_var = np.round(pca.explained_variance_ratio_*100, decimals=1)\n",
        "label = ['PC' + str(x) for x in range(1, len(per_var)+1)]\n",
        "pca_df = pd.DataFrame(pca_data,  columns=label)\n",
        "plt.bar(x=range(1, len(per_var)+1), height=per_var, tick_label = label)\n",
        "plt.ylabel('Percentage of explained variance')\n",
        "plt.xlabel('Principal Component')\n",
        "plt.title('Scree plot With Outliers')\n",
        "plt.xticks(rotation='vertical')\n",
        "plt.show()\n",
        "\n",
        "\n",
        "\n"
      ],
      "metadata": {
        "colab": {
          "base_uri": "https://localhost:8080/",
          "height": 301
        },
        "id": "x6uv97BvxxaE",
        "outputId": "a9ad0201-95c6-4366-d396-7957dc4e889d"
      },
      "execution_count": null,
      "outputs": [
        {
          "output_type": "display_data",
          "data": {
            "text/plain": [
              "<Figure size 566.929x283.465 with 1 Axes>"
            ],
            "image/png": "[encoded data removed]"
          },
          "metadata": {
            "needs_background": "light"
          }
        }
      ]
    },
    {
      "cell_type": "code",
      "source": [
        "print(per_var[0]+per_var[1]+per_var[2]+per_var[3]+per_var[4])\n",
        "eigenvalues = pca.explained_variance_\n",
        "print(len(eigenvalues))\n",
        "nums = np.arange(1, 9)\n",
        "\n",
        "plt.scatter(nums, eigenvalues)\n",
        "plt.xlabel('Principal Component #')\n",
        "plt.ylabel('Eigenvalues')\n",
        "plt.title(\"Eigenvalue plot with Outliers\")"
      ],
      "metadata": {
        "colab": {
          "base_uri": "https://localhost:8080/",
          "height": 346
        },
        "id": "GG_doZ2nZoqy",
        "outputId": "373863cc-9f2c-4762-c9bd-7135cd7e9352"
      },
      "execution_count": null,
      "outputs": [
        {
          "output_type": "stream",
          "name": "stdout",
          "text": [
            "95.8\n",
            "8\n"
          ]
        },
        {
          "output_type": "execute_result",
          "data": {
            "text/plain": [
              "Text(0.5, 1.0, 'Eigenvalue plot with Outliers')"
            ]
          },
          "metadata": {},
          "execution_count": 156
        },
        {
          "output_type": "display_data",
          "data": {
            "text/plain": [
              "<Figure size 432x288 with 1 Axes>"
            ],
            "image/png": "[encoded data removed]"
          },
          "metadata": {
            "needs_background": "light"
          }
        }
      ]
    },
    {
      "cell_type": "code",
      "source": [
        "pca_data = pd.DataFrame(pca_data)[[0,1,2,3]]\n",
        "pca_data"
      ],
      "metadata": {
        "colab": {
          "base_uri": "https://localhost:8080/",
          "height": 424
        },
        "id": "ymQJsyLjx3en",
        "outputId": "648e3809-cd17-453f-bac9-2aaa17ddb446"
      },
      "execution_count": null,
      "outputs": [
        {
          "output_type": "execute_result",
          "data": {
            "text/plain": [
              "             0         1         2         3\n",
              "0     5.366425 -1.510697  0.048855  0.868148\n",
              "1    -2.763557 -0.941549  1.025820  0.194112\n",
              "2    -1.836212 -1.425543 -0.466593  0.012914\n",
              "3    -2.911117 -0.545897  0.598198 -0.184767\n",
              "4    -2.547412 -0.004586 -0.601742 -0.075676\n",
              "...        ...       ...       ...       ...\n",
              "1782 -2.010494 -1.052328  0.392502 -0.169146\n",
              "1783 -2.409907 -0.689123 -0.014151  0.513793\n",
              "1784 -1.426011  1.717073 -0.804768  0.113485\n",
              "1785 -2.029926 -0.764471 -0.310439 -1.060873\n",
              "1786 -2.434711 -0.310246  0.549022 -0.570252\n",
              "\n",
              "[1787 rows x 4 columns]"
            ],
            "text/html": [
              "\n",
              "  <div id=\"df-d59c4c1c-c4ee-4c64-bfd6-80279be8eb50\">\n",
              "    <div class=\"colab-df-container\">\n",
              "      <div>\n",
              "<style scoped>\n",
              "    .dataframe tbody tr th:only-of-type {\n",
              "        vertical-align: middle;\n",
              "    }\n",
              "\n",
              "    .dataframe tbody tr th {\n",
              "        vertical-align: top;\n",
              "    }\n",
              "\n",
              "    .dataframe thead th {\n",
              "        text-align: right;\n",
              "    }\n",
              "</style>\n",
              "<table border=\"1\" class=\"dataframe\">\n",
              "  <thead>\n",
              "    <tr style=\"text-align: right;\">\n",
              "      <th></th>\n",
              "      <th>0</th>\n",
              "      <th>1</th>\n",
              "      <th>2</th>\n",
              "      <th>3</th>\n",
              "    </tr>\n",
              "  </thead>\n",
              "  <tbody>\n",
              "    <tr>\n",
              "      <th>0</th>\n",
              "      <td>5.366425</td>\n",
              "      <td>-1.510697</td>\n",
              "      <td>0.048855</td>\n",
              "      <td>0.868148</td>\n",
              "    </tr>\n",
              "    <tr>\n",
              "      <th>1</th>\n",
              "      <td>-2.763557</td>\n",
              "      <td>-0.941549</td>\n",
              "      <td>1.025820</td>\n",
              "      <td>0.194112</td>\n",
              "    </tr>\n",
              "    <tr>\n",
              "      <th>2</th>\n",
              "      <td>-1.836212</td>\n",
              "      <td>-1.425543</td>\n",
              "      <td>-0.466593</td>\n",
              "      <td>0.012914</td>\n",
              "    </tr>\n",
              "    <tr>\n",
              "      <th>3</th>\n",
              "      <td>-2.911117</td>\n",
              "      <td>-0.545897</td>\n",
              "      <td>0.598198</td>\n",
              "      <td>-0.184767</td>\n",
              "    </tr>\n",
              "    <tr>\n",
              "      <th>4</th>\n",
              "      <td>-2.547412</td>\n",
              "      <td>-0.004586</td>\n",
              "      <td>-0.601742</td>\n",
              "      <td>-0.075676</td>\n",
              "    </tr>\n",
              "    <tr>\n",
              "      <th>...</th>\n",
              "      <td>...</td>\n",
              "      <td>...</td>\n",
              "      <td>...</td>\n",
              "      <td>...</td>\n",
              "    </tr>\n",
              "    <tr>\n",
              "      <th>1782</th>\n",
              "      <td>-2.010494</td>\n",
              "      <td>-1.052328</td>\n",
              "      <td>0.392502</td>\n",
              "      <td>-0.169146</td>\n",
              "    </tr>\n",
              "    <tr>\n",
              "      <th>1783</th>\n",
              "      <td>-2.409907</td>\n",
              "      <td>-0.689123</td>\n",
              "      <td>-0.014151</td>\n",
              "      <td>0.513793</td>\n",
              "    </tr>\n",
              "    <tr>\n",
              "      <th>1784</th>\n",
              "      <td>-1.426011</td>\n",
              "      <td>1.717073</td>\n",
              "      <td>-0.804768</td>\n",
              "      <td>0.113485</td>\n",
              "    </tr>\n",
              "    <tr>\n",
              "      <th>1785</th>\n",
              "      <td>-2.029926</td>\n",
              "      <td>-0.764471</td>\n",
              "      <td>-0.310439</td>\n",
              "      <td>-1.060873</td>\n",
              "    </tr>\n",
              "    <tr>\n",
              "      <th>1786</th>\n",
              "      <td>-2.434711</td>\n",
              "      <td>-0.310246</td>\n",
              "      <td>0.549022</td>\n",
              "      <td>-0.570252</td>\n",
              "    </tr>\n",
              "  </tbody>\n",
              "</table>\n",
              "<p>1787 rows × 4 columns</p>\n",
              "</div>\n",
              "      <button class=\"colab-df-convert\" onclick=\"convertToInteractive('df-d59c4c1c-c4ee-4c64-bfd6-80279be8eb50')\"\n",
              "              title=\"Convert this dataframe to an interactive table.\"\n",
              "              style=\"display:none;\">\n",
              "        \n",
              "  <svg xmlns=\"http://www.w3.org/2000/svg\" height=\"24px\"viewBox=\"0 0 24 24\"\n",
              "       width=\"24px\">\n",
              "    <path d=\"M0 0h24v24H0V0z\" fill=\"none\"/>\n",
              "    <path d=\"M18.56 5.44l.94 2.06.94-2.06 2.06-.94-2.06-.94-.94-2.06-.94 2.06-2.06.94zm-11 1L8.5 8.5l.94-2.06 2.06-.94-2.06-.94L8.5 2.5l-.94 2.06-2.06.94zm10 10l.94 2.06.94-2.06 2.06-.94-2.06-.94-.94-2.06-.94 2.06-2.06.94z\"/><path d=\"M17.41 7.96l-1.37-1.37c-.4-.4-.92-.59-1.43-.59-.52 0-1.04.2-1.43.59L10.3 9.45l-7.72 7.72c-.78.78-.78 2.05 0 2.83L4 21.41c.39.39.9.59 1.41.59.51 0 1.02-.2 1.41-.59l7.78-7.78 2.81-2.81c.8-.78.8-2.07 0-2.86zM5.41 20L4 18.59l7.72-7.72 1.47 1.35L5.41 20z\"/>\n",
              "  </svg>\n",
              "      </button>\n",
              "      \n",
              "  <style>\n",
              "    .colab-df-container {\n",
              "      display:flex;\n",
              "      flex-wrap:wrap;\n",
              "      gap: 12px;\n",
              "    }\n",
              "\n",
              "    .colab-df-convert {\n",
              "      background-color: #E8F0FE;\n",
              "      border: none;\n",
              "      border-radius: 50%;\n",
              "      cursor: pointer;\n",
              "      display: none;\n",
              "      fill: #1967D2;\n",
              "      height: 32px;\n",
              "      padding: 0 0 0 0;\n",
              "      width: 32px;\n",
              "    }\n",
              "\n",
              "    .colab-df-convert:hover {\n",
              "      background-color: #E2EBFA;\n",
              "      box-shadow: 0px 1px 2px rgba(60, 64, 67, 0.3), 0px 1px 3px 1px rgba(60, 64, 67, 0.15);\n",
              "      fill: #174EA6;\n",
              "    }\n",
              "\n",
              "    [theme=dark] .colab-df-convert {\n",
              "      background-color: #3B4455;\n",
              "      fill: #D2E3FC;\n",
              "    }\n",
              "\n",
              "    [theme=dark] .colab-df-convert:hover {\n",
              "      background-color: #434B5C;\n",
              "      box-shadow: 0px 1px 3px 1px rgba(0, 0, 0, 0.15);\n",
              "      filter: drop-shadow(0px 1px 2px rgba(0, 0, 0, 0.3));\n",
              "      fill: #FFFFFF;\n",
              "    }\n",
              "  </style>\n",
              "\n",
              "      <script>\n",
              "        const buttonEl =\n",
              "          document.querySelector('#df-d59c4c1c-c4ee-4c64-bfd6-80279be8eb50 button.colab-df-convert');\n",
              "        buttonEl.style.display =\n",
              "          google.colab.kernel.accessAllowed ? 'block' : 'none';\n",
              "\n",
              "        async function convertToInteractive(key) {\n",
              "          const element = document.querySelector('#df-d59c4c1c-c4ee-4c64-bfd6-80279be8eb50');\n",
              "          const dataTable =\n",
              "            await google.colab.kernel.invokeFunction('convertToInteractive',\n",
              "                                                     [key], {});\n",
              "          if (!dataTable) return;\n",
              "\n",
              "          const docLinkHtml = 'Like what you see? Visit the ' +\n",
              "            '<a target=\"_blank\" href=https://colab.research.google.com/notebooks/data_table.ipynb>data table notebook</a>'\n",
              "            + ' to learn more about interactive tables.';\n",
              "          element.innerHTML = '';\n",
              "          dataTable['output_type'] = 'display_data';\n",
              "          await google.colab.output.renderOutput(dataTable, element);\n",
              "          const docLink = document.createElement('div');\n",
              "          docLink.innerHTML = docLinkHtml;\n",
              "          element.appendChild(docLink);\n",
              "        }\n",
              "      </script>\n",
              "    </div>\n",
              "  </div>\n",
              "  "
            ]
          },
          "metadata": {},
          "execution_count": 90
        }
      ]
    },
    {
      "cell_type": "code",
      "source": [
        "pca_wr = pca_data[df['Pos'] == 'WR']\n",
        "pca_cb = pca_data[df['Pos'] == 'CB']\n",
        "pca_og = pca_data[df['Pos'] == 'OG']\n",
        "pca_dt = pca_data[df['Pos'] == 'DT']\n",
        "\n"
      ],
      "metadata": {
        "id": "3pKHTKHL1dUY"
      },
      "execution_count": null,
      "outputs": []
    },
    {
      "cell_type": "markdown",
      "source": [
        "#Splitting up the PCA Data into train/test"
      ],
      "metadata": {
        "id": "H3pj1G4x-y3e"
      }
    },
    {
      "cell_type": "code",
      "source": [
        "from sklearn.model_selection import train_test_split\n",
        "from sklearn.preprocessing import MinMaxScaler\n",
        "scaler2=MinMaxScaler(feature_range=(0,1))\n",
        "\n",
        "pca_wr_train, pca_wr_test, pca_wr_target_train, pca_wr_target_test = train_test_split(pca_wr, wr_target, test_size=0.20, random_state=42)\n",
        "pca_dt_train, pca_dt_test, pca_dt_target_train, pca_dt_target_test = train_test_split(pca_dt, dt_target, test_size=0.20, random_state=42)\n",
        "pca_og_train, pca_og_test, pca_og_target_train, pca_og_target_test = train_test_split(pca_og, og_target, test_size=0.20, random_state=42)\n",
        "pca_cb_train, pca_cb_test, pca_cb_target_train, pca_cb_target_test = train_test_split(pca_cb, cb_target, test_size=0.20, random_state=42)\n",
        "\n",
        "pca_wr_target_train = scaler2.fit_transform(np.array(pca_wr_target_train[['Pick']]))\n",
        "pca_dt_target_train = scaler2.fit_transform(np.array(pca_dt_target_train[['Pick']]))\n",
        "pca_og_target_train = scaler2.fit_transform(np.array(pca_og_target_train[['Pick']]))\n",
        "pca_cb_target_train = scaler2.fit_transform(np.array(pca_cb_target_train[['Pick']]))\n",
        "\n",
        "pca_wr_target_test = scaler2.transform(np.array(pca_wr_target_test[['Pick']]))\n",
        "pca_dt_target_test= scaler2.transform(np.array(pca_dt_target_test[['Pick']]))\n",
        "pca_og_target_test = scaler2.transform(np.array(pca_og_target_test[['Pick']]))\n",
        "pca_cb_target_test = scaler2.transform(np.array(pca_cb_target_test[['Pick']]))"
      ],
      "metadata": {
        "id": "B3nb2rYbBHxa"
      },
      "execution_count": null,
      "outputs": []
    },
    {
      "cell_type": "markdown",
      "source": [
        "#Fitting Linear regression on the PCA data"
      ],
      "metadata": {
        "id": "WtXelMrHDZwt"
      }
    },
    {
      "cell_type": "code",
      "source": [
        "from sklearn.linear_model import LinearRegression\n",
        "\n",
        "# wr\n",
        "pca_lin_wr = LinearRegression().fit(pca_wr_train, pca_wr_target_train)\n",
        "predict_lin_wr = pca_lin_wr.predict(pca_wr_test)\n",
        "\n",
        "# cb\n",
        "pca_lin_cb = LinearRegression().fit(pca_cb_train, pca_cb_target_train)\n",
        "predict_lin_cb = pca_lin_cb.predict(pca_cb_test)\n",
        "\n",
        "# og\n",
        "pca_lin_og = LinearRegression().fit(pca_og_train, pca_og_target_train)\n",
        "predict_lin_og = pca_lin_og.predict(pca_og_test)\n",
        "\n",
        "# dt\n",
        "pca_lin_dt = LinearRegression().fit(pca_dt_train, pca_dt_target_train)\n",
        "predict_lin_dt = pca_lin_dt.predict(pca_dt_test)"
      ],
      "metadata": {
        "id": "tOmF064cDWED"
      },
      "execution_count": null,
      "outputs": []
    },
    {
      "cell_type": "code",
      "source": [
        "from sklearn.metrics import mean_squared_error, r2_score\n",
        "#Using all predictors\n",
        "print(f\"(wr) MSE: {mean_squared_error(pca_wr_target_test, predict_lin_wr)},\\tR2: {r2_score(pca_wr_target_test, predict_lin_wr)}\")\n",
        "print(f\"(cb) MSE: {mean_squared_error(pca_cb_target_test, predict_lin_cb)},\\tR2: {r2_score(pca_cb_target_test, predict_lin_cb)}\")\n",
        "print(f\"(og) MSE: {mean_squared_error(pca_og_target_test, predict_lin_og)},\\tR2: {r2_score(pca_og_target_test, predict_lin_og)}\")\n",
        "print(f\"(dt) MSE: {mean_squared_error(pca_dt_target_test, predict_lin_dt)},\\tR2: {r2_score(pca_dt_target_test, predict_lin_dt)}\")"
      ],
      "metadata": {
        "colab": {
          "base_uri": "https://localhost:8080/"
        },
        "id": "4RLp-xPqEu-k",
        "outputId": "a06088e7-fba7-4dfe-ee9f-7e544d5dcf31"
      },
      "execution_count": null,
      "outputs": [
        {
          "output_type": "stream",
          "name": "stdout",
          "text": [
            "(wr) MSE: 0.07247903143374185,\tR2: -0.13274027519010412\n",
            "(cb) MSE: 0.055768448009623335,\tR2: 0.08496407084537128\n",
            "(og) MSE: 0.060823606434196105,\tR2: 0.08137558405537915\n",
            "(dt) MSE: 0.07520561049534533,\tR2: 7.272663922341938e-05\n"
          ]
        }
      ]
    },
    {
      "cell_type": "code",
      "source": [
        "mse_scores = {'WR':0.07247903143374185, 'CB': 0.055768448009623335, 'OG':0.060823606434196105, 'DT':0.07520561049534533}\n",
        "data_items = mse_scores.items()\n",
        "data_list = list(data_items)\n",
        "mse_df = pd.DataFrame(data_list)\n",
        "print(f\"mse table for significant\\npredictors (PCA linear regression)\")\n",
        "mse_df"
      ],
      "metadata": {
        "colab": {
          "base_uri": "https://localhost:8080/",
          "height": 209
        },
        "id": "ke3KdsohGRx9",
        "outputId": "1d1a57da-4828-40f4-c0c4-645762087a3d"
      },
      "execution_count": null,
      "outputs": [
        {
          "output_type": "stream",
          "name": "stdout",
          "text": [
            "mse table for significant\n",
            "predictors (PCA linear regression)\n"
          ]
        },
        {
          "output_type": "execute_result",
          "data": {
            "text/plain": [
              "    0         1\n",
              "0  WR  0.072479\n",
              "1  CB  0.055768\n",
              "2  OG  0.060824\n",
              "3  DT  0.075206"
            ],
            "text/html": [
              "\n",
              "  <div id=\"df-92381c0c-a88f-4ceb-a4ab-9000ad3bf6f4\">\n",
              "    <div class=\"colab-df-container\">\n",
              "      <div>\n",
              "<style scoped>\n",
              "    .dataframe tbody tr th:only-of-type {\n",
              "        vertical-align: middle;\n",
              "    }\n",
              "\n",
              "    .dataframe tbody tr th {\n",
              "        vertical-align: top;\n",
              "    }\n",
              "\n",
              "    .dataframe thead th {\n",
              "        text-align: right;\n",
              "    }\n",
              "</style>\n",
              "<table border=\"1\" class=\"dataframe\">\n",
              "  <thead>\n",
              "    <tr style=\"text-align: right;\">\n",
              "      <th></th>\n",
              "      <th>0</th>\n",
              "      <th>1</th>\n",
              "    </tr>\n",
              "  </thead>\n",
              "  <tbody>\n",
              "    <tr>\n",
              "      <th>0</th>\n",
              "      <td>WR</td>\n",
              "      <td>0.072479</td>\n",
              "    </tr>\n",
              "    <tr>\n",
              "      <th>1</th>\n",
              "      <td>CB</td>\n",
              "      <td>0.055768</td>\n",
              "    </tr>\n",
              "    <tr>\n",
              "      <th>2</th>\n",
              "      <td>OG</td>\n",
              "      <td>0.060824</td>\n",
              "    </tr>\n",
              "    <tr>\n",
              "      <th>3</th>\n",
              "      <td>DT</td>\n",
              "      <td>0.075206</td>\n",
              "    </tr>\n",
              "  </tbody>\n",
              "</table>\n",
              "</div>\n",
              "      <button class=\"colab-df-convert\" onclick=\"convertToInteractive('df-92381c0c-a88f-4ceb-a4ab-9000ad3bf6f4')\"\n",
              "              title=\"Convert this dataframe to an interactive table.\"\n",
              "              style=\"display:none;\">\n",
              "        \n",
              "  <svg xmlns=\"http://www.w3.org/2000/svg\" height=\"24px\"viewBox=\"0 0 24 24\"\n",
              "       width=\"24px\">\n",
              "    <path d=\"M0 0h24v24H0V0z\" fill=\"none\"/>\n",
              "    <path d=\"M18.56 5.44l.94 2.06.94-2.06 2.06-.94-2.06-.94-.94-2.06-.94 2.06-2.06.94zm-11 1L8.5 8.5l.94-2.06 2.06-.94-2.06-.94L8.5 2.5l-.94 2.06-2.06.94zm10 10l.94 2.06.94-2.06 2.06-.94-2.06-.94-.94-2.06-.94 2.06-2.06.94z\"/><path d=\"M17.41 7.96l-1.37-1.37c-.4-.4-.92-.59-1.43-.59-.52 0-1.04.2-1.43.59L10.3 9.45l-7.72 7.72c-.78.78-.78 2.05 0 2.83L4 21.41c.39.39.9.59 1.41.59.51 0 1.02-.2 1.41-.59l7.78-7.78 2.81-2.81c.8-.78.8-2.07 0-2.86zM5.41 20L4 18.59l7.72-7.72 1.47 1.35L5.41 20z\"/>\n",
              "  </svg>\n",
              "      </button>\n",
              "      \n",
              "  <style>\n",
              "    .colab-df-container {\n",
              "      display:flex;\n",
              "      flex-wrap:wrap;\n",
              "      gap: 12px;\n",
              "    }\n",
              "\n",
              "    .colab-df-convert {\n",
              "      background-color: #E8F0FE;\n",
              "      border: none;\n",
              "      border-radius: 50%;\n",
              "      cursor: pointer;\n",
              "      display: none;\n",
              "      fill: #1967D2;\n",
              "      height: 32px;\n",
              "      padding: 0 0 0 0;\n",
              "      width: 32px;\n",
              "    }\n",
              "\n",
              "    .colab-df-convert:hover {\n",
              "      background-color: #E2EBFA;\n",
              "      box-shadow: 0px 1px 2px rgba(60, 64, 67, 0.3), 0px 1px 3px 1px rgba(60, 64, 67, 0.15);\n",
              "      fill: #174EA6;\n",
              "    }\n",
              "\n",
              "    [theme=dark] .colab-df-convert {\n",
              "      background-color: #3B4455;\n",
              "      fill: #D2E3FC;\n",
              "    }\n",
              "\n",
              "    [theme=dark] .colab-df-convert:hover {\n",
              "      background-color: #434B5C;\n",
              "      box-shadow: 0px 1px 3px 1px rgba(0, 0, 0, 0.15);\n",
              "      filter: drop-shadow(0px 1px 2px rgba(0, 0, 0, 0.3));\n",
              "      fill: #FFFFFF;\n",
              "    }\n",
              "  </style>\n",
              "\n",
              "      <script>\n",
              "        const buttonEl =\n",
              "          document.querySelector('#df-92381c0c-a88f-4ceb-a4ab-9000ad3bf6f4 button.colab-df-convert');\n",
              "        buttonEl.style.display =\n",
              "          google.colab.kernel.accessAllowed ? 'block' : 'none';\n",
              "\n",
              "        async function convertToInteractive(key) {\n",
              "          const element = document.querySelector('#df-92381c0c-a88f-4ceb-a4ab-9000ad3bf6f4');\n",
              "          const dataTable =\n",
              "            await google.colab.kernel.invokeFunction('convertToInteractive',\n",
              "                                                     [key], {});\n",
              "          if (!dataTable) return;\n",
              "\n",
              "          const docLinkHtml = 'Like what you see? Visit the ' +\n",
              "            '<a target=\"_blank\" href=https://colab.research.google.com/notebooks/data_table.ipynb>data table notebook</a>'\n",
              "            + ' to learn more about interactive tables.';\n",
              "          element.innerHTML = '';\n",
              "          dataTable['output_type'] = 'display_data';\n",
              "          await google.colab.output.renderOutput(dataTable, element);\n",
              "          const docLink = document.createElement('div');\n",
              "          docLink.innerHTML = docLinkHtml;\n",
              "          element.appendChild(docLink);\n",
              "        }\n",
              "      </script>\n",
              "    </div>\n",
              "  </div>\n",
              "  "
            ]
          },
          "metadata": {},
          "execution_count": 117
        }
      ]
    },
    {
      "cell_type": "code",
      "source": [
        "from sklearn.neighbors import KNeighborsRegressor\n",
        "from sklearn.model_selection import GridSearchCV, RandomizedSearchCV\n",
        "\n",
        "parameters = {'n_neighbors': list(range(1, 11))}\n",
        "\n",
        "knn1 = KNeighborsRegressor()\n",
        "clf = GridSearchCV(knn1, parameters)\n",
        "clf_pca_wr = clf.fit(pca_wr_train, pca_wr_target_train)\n",
        "clf_pca_cb = clf.fit(pca_cb_train, pca_cb_target_train)\n",
        "clf_pca_og = clf.fit(pca_og_train, pca_og_target_train)\n",
        "clf_pca_dt = clf.fit(pca_dt_train, pca_dt_target_train)"
      ],
      "metadata": {
        "id": "PyRanvp4IKd-"
      },
      "execution_count": null,
      "outputs": []
    },
    {
      "cell_type": "code",
      "source": [
        "import matplotlib.pyplot as plt\n",
        "pca_wr_knn = pd.DataFrame(clf_pca_wr.cv_results_)\n",
        "plt.plot(pca_wr_knn['param_n_neighbors'], abs(pca_wr_knn['mean_test_score']))\n",
        "plt.title('PCA KNN WR')"
      ],
      "metadata": {
        "colab": {
          "base_uri": "https://localhost:8080/",
          "height": 298
        },
        "id": "RQjFZQuRIpas",
        "outputId": "80bd90ca-349f-49eb-df02-e28e8efa4cbd"
      },
      "execution_count": null,
      "outputs": [
        {
          "output_type": "execute_result",
          "data": {
            "text/plain": [
              "Text(0.5, 1.0, 'PCA KNN WR')"
            ]
          },
          "metadata": {},
          "execution_count": 127
        },
        {
          "output_type": "display_data",
          "data": {
            "text/plain": [
              "<Figure size 432x288 with 1 Axes>"
            ],
            "image/png": "[encoded data removed]"
          },
          "metadata": {
            "needs_background": "light"
          }
        }
      ]
    },
    {
      "cell_type": "code",
      "source": [
        "import matplotlib.pyplot as plt\n",
        "pca_cb_knn = pd.DataFrame(clf_pca_cb.cv_results_)\n",
        "plt.plot(pca_cb_knn['param_n_neighbors'], abs(pca_cb_knn['mean_test_score']))\n",
        "plt.title('PCA KNN CB')"
      ],
      "metadata": {
        "colab": {
          "base_uri": "https://localhost:8080/",
          "height": 298
        },
        "id": "FrlJNXgEJiJr",
        "outputId": "fd7694e2-84e7-4e48-b5b1-ea3a65777a2f"
      },
      "execution_count": null,
      "outputs": [
        {
          "output_type": "execute_result",
          "data": {
            "text/plain": [
              "Text(0.5, 1.0, 'PCA KNN CB')"
            ]
          },
          "metadata": {},
          "execution_count": 128
        },
        {
          "output_type": "display_data",
          "data": {
            "text/plain": [
              "<Figure size 432x288 with 1 Axes>"
            ],
            "image/png": "[encoded data removed]"
          },
          "metadata": {
            "needs_background": "light"
          }
        }
      ]
    },
    {
      "cell_type": "code",
      "source": [
        "knn_wr_pca = KNeighborsRegressor(n_neighbors=10).fit(pca_wr_train, pca_wr_target_train)\n",
        "knn_cb_pca = KNeighborsRegressor(n_neighbors=10).fit(pca_cb_train, pca_cb_target_train)\n",
        "knn_og_pca = KNeighborsRegressor(n_neighbors=10).fit(pca_og_train, pca_og_target_train)\n",
        "knn_dt_pca = KNeighborsRegressor(n_neighbors=10).fit(pca_dt_train, pca_dt_target_train)"
      ],
      "metadata": {
        "id": "7e5HY5EjInuy"
      },
      "execution_count": null,
      "outputs": []
    },
    {
      "cell_type": "code",
      "source": [
        "knn_pred_wr = knn_wr_pca.predict(pca_wr_test)\n",
        "knn_pred_cb = knn_cb_pca.predict(pca_cb_test)\n",
        "knn_pred_og = knn_og_pca.predict(pca_og_test)\n",
        "knn_pred_dt = knn_dt_pca.predict(pca_dt_test)"
      ],
      "metadata": {
        "id": "uR6SAYjcN6f8"
      },
      "execution_count": null,
      "outputs": []
    },
    {
      "cell_type": "code",
      "source": [
        "from sklearn.metrics import mean_squared_error, r2_score\n",
        "#Using all predictors\n",
        "print(f\"(wr) MSE: {mean_squared_error(pca_wr_target_test, knn_pred_wr)}\")\n",
        "print(f\"(cb) MSE: {mean_squared_error(pca_cb_target_test, knn_pred_cb)}\")\n",
        "print(f\"(og) MSE: {mean_squared_error(pca_og_target_test, knn_pred_og)}\")\n",
        "print(f\"(dt) MSE: {mean_squared_error(pca_dt_target_test, knn_pred_dt)}\")"
      ],
      "metadata": {
        "colab": {
          "base_uri": "https://localhost:8080/"
        },
        "id": "C4ZckjylNvK_",
        "outputId": "d18215f9-ec54-4a28-f9f5-93a92b85aade"
      },
      "execution_count": null,
      "outputs": [
        {
          "output_type": "stream",
          "name": "stdout",
          "text": [
            "(wr) MSE: 0.06774129920847179\n",
            "(cb) MSE: 0.06447587837263952\n",
            "(og) MSE: 0.05856302881904613\n",
            "(dt) MSE: 0.07002307002050201\n"
          ]
        }
      ]
    },
    {
      "cell_type": "code",
      "source": [
        "mse_scores = {'WR': 0.06774129920847179, 'CB':0.06447587837263952, 'OG':0.05856302881904613, 'DT':0.07002307002050201}\n",
        "data_items = mse_scores.items()\n",
        "data_list = list(data_items)\n",
        "mse_df = pd.DataFrame(data_list)\n",
        "print(f\"mse table for significant\\npredictors (PCA KNN regression)\")\n",
        "mse_df"
      ],
      "metadata": {
        "colab": {
          "base_uri": "https://localhost:8080/",
          "height": 209
        },
        "id": "Qwj7Cb3UPbmB",
        "outputId": "48174289-9d7f-422a-fc24-12359b917039"
      },
      "execution_count": null,
      "outputs": [
        {
          "output_type": "stream",
          "name": "stdout",
          "text": [
            "mse table for significant\n",
            "predictors (PCA KNN regression)\n"
          ]
        },
        {
          "output_type": "execute_result",
          "data": {
            "text/plain": [
              "    0         1\n",
              "0  WR  0.067741\n",
              "1  CB  0.064476\n",
              "2  OG  0.058563\n",
              "3  DT  0.070023"
            ],
            "text/html": [
              "\n",
              "  <div id=\"df-dc06311d-2d49-4b77-bf25-f4fc4f5848bf\">\n",
              "    <div class=\"colab-df-container\">\n",
              "      <div>\n",
              "<style scoped>\n",
              "    .dataframe tbody tr th:only-of-type {\n",
              "        vertical-align: middle;\n",
              "    }\n",
              "\n",
              "    .dataframe tbody tr th {\n",
              "        vertical-align: top;\n",
              "    }\n",
              "\n",
              "    .dataframe thead th {\n",
              "        text-align: right;\n",
              "    }\n",
              "</style>\n",
              "<table border=\"1\" class=\"dataframe\">\n",
              "  <thead>\n",
              "    <tr style=\"text-align: right;\">\n",
              "      <th></th>\n",
              "      <th>0</th>\n",
              "      <th>1</th>\n",
              "    </tr>\n",
              "  </thead>\n",
              "  <tbody>\n",
              "    <tr>\n",
              "      <th>0</th>\n",
              "      <td>WR</td>\n",
              "      <td>0.067741</td>\n",
              "    </tr>\n",
              "    <tr>\n",
              "      <th>1</th>\n",
              "      <td>CB</td>\n",
              "      <td>0.064476</td>\n",
              "    </tr>\n",
              "    <tr>\n",
              "      <th>2</th>\n",
              "      <td>OG</td>\n",
              "      <td>0.058563</td>\n",
              "    </tr>\n",
              "    <tr>\n",
              "      <th>3</th>\n",
              "      <td>DT</td>\n",
              "      <td>0.070023</td>\n",
              "    </tr>\n",
              "  </tbody>\n",
              "</table>\n",
              "</div>\n",
              "      <button class=\"colab-df-convert\" onclick=\"convertToInteractive('df-dc06311d-2d49-4b77-bf25-f4fc4f5848bf')\"\n",
              "              title=\"Convert this dataframe to an interactive table.\"\n",
              "              style=\"display:none;\">\n",
              "        \n",
              "  <svg xmlns=\"http://www.w3.org/2000/svg\" height=\"24px\"viewBox=\"0 0 24 24\"\n",
              "       width=\"24px\">\n",
              "    <path d=\"M0 0h24v24H0V0z\" fill=\"none\"/>\n",
              "    <path d=\"M18.56 5.44l.94 2.06.94-2.06 2.06-.94-2.06-.94-.94-2.06-.94 2.06-2.06.94zm-11 1L8.5 8.5l.94-2.06 2.06-.94-2.06-.94L8.5 2.5l-.94 2.06-2.06.94zm10 10l.94 2.06.94-2.06 2.06-.94-2.06-.94-.94-2.06-.94 2.06-2.06.94z\"/><path d=\"M17.41 7.96l-1.37-1.37c-.4-.4-.92-.59-1.43-.59-.52 0-1.04.2-1.43.59L10.3 9.45l-7.72 7.72c-.78.78-.78 2.05 0 2.83L4 21.41c.39.39.9.59 1.41.59.51 0 1.02-.2 1.41-.59l7.78-7.78 2.81-2.81c.8-.78.8-2.07 0-2.86zM5.41 20L4 18.59l7.72-7.72 1.47 1.35L5.41 20z\"/>\n",
              "  </svg>\n",
              "      </button>\n",
              "      \n",
              "  <style>\n",
              "    .colab-df-container {\n",
              "      display:flex;\n",
              "      flex-wrap:wrap;\n",
              "      gap: 12px;\n",
              "    }\n",
              "\n",
              "    .colab-df-convert {\n",
              "      background-color: #E8F0FE;\n",
              "      border: none;\n",
              "      border-radius: 50%;\n",
              "      cursor: pointer;\n",
              "      display: none;\n",
              "      fill: #1967D2;\n",
              "      height: 32px;\n",
              "      padding: 0 0 0 0;\n",
              "      width: 32px;\n",
              "    }\n",
              "\n",
              "    .colab-df-convert:hover {\n",
              "      background-color: #E2EBFA;\n",
              "      box-shadow: 0px 1px 2px rgba(60, 64, 67, 0.3), 0px 1px 3px 1px rgba(60, 64, 67, 0.15);\n",
              "      fill: #174EA6;\n",
              "    }\n",
              "\n",
              "    [theme=dark] .colab-df-convert {\n",
              "      background-color: #3B4455;\n",
              "      fill: #D2E3FC;\n",
              "    }\n",
              "\n",
              "    [theme=dark] .colab-df-convert:hover {\n",
              "      background-color: #434B5C;\n",
              "      box-shadow: 0px 1px 3px 1px rgba(0, 0, 0, 0.15);\n",
              "      filter: drop-shadow(0px 1px 2px rgba(0, 0, 0, 0.3));\n",
              "      fill: #FFFFFF;\n",
              "    }\n",
              "  </style>\n",
              "\n",
              "      <script>\n",
              "        const buttonEl =\n",
              "          document.querySelector('#df-dc06311d-2d49-4b77-bf25-f4fc4f5848bf button.colab-df-convert');\n",
              "        buttonEl.style.display =\n",
              "          google.colab.kernel.accessAllowed ? 'block' : 'none';\n",
              "\n",
              "        async function convertToInteractive(key) {\n",
              "          const element = document.querySelector('#df-dc06311d-2d49-4b77-bf25-f4fc4f5848bf');\n",
              "          const dataTable =\n",
              "            await google.colab.kernel.invokeFunction('convertToInteractive',\n",
              "                                                     [key], {});\n",
              "          if (!dataTable) return;\n",
              "\n",
              "          const docLinkHtml = 'Like what you see? Visit the ' +\n",
              "            '<a target=\"_blank\" href=https://colab.research.google.com/notebooks/data_table.ipynb>data table notebook</a>'\n",
              "            + ' to learn more about interactive tables.';\n",
              "          element.innerHTML = '';\n",
              "          dataTable['output_type'] = 'display_data';\n",
              "          await google.colab.output.renderOutput(dataTable, element);\n",
              "          const docLink = document.createElement('div');\n",
              "          docLink.innerHTML = docLinkHtml;\n",
              "          element.appendChild(docLink);\n",
              "        }\n",
              "      </script>\n",
              "    </div>\n",
              "  </div>\n",
              "  "
            ]
          },
          "metadata": {},
          "execution_count": 139
        }
      ]
    },
    {
      "cell_type": "code",
      "source": [
        "from sklearn.ensemble import RandomForestRegressor\n",
        "from sklearn.model_selection import RandomizedSearchCV\n",
        "rf = RandomForestRegressor(random_state = 42)\n",
        "rf_random = RandomizedSearchCV(estimator = rf, param_distributions = random_grid, n_iter = 30, cv = 3, verbose=2, random_state=42, n_jobs = -1)\n",
        "# Fit the random search model\n",
        "pca_rf_wr = rf_random.fit(pca_wr_train, pca_wr_target_train)\n",
        "pca_rf_cb = rf_random.fit(pca_cb_train, pca_cb_target_train)\n",
        "pca_rf_og = rf_random.fit(pca_og_train, pca_og_target_train)\n",
        "pca_rf_dt = rf_random.fit(pca_dt_train, pca_dt_target_train)"
      ],
      "metadata": {
        "colab": {
          "base_uri": "https://localhost:8080/"
        },
        "id": "OhuK4JZ-QyPb",
        "outputId": "425aeb33-c856-4afe-8ce3-57de618b5d05"
      },
      "execution_count": null,
      "outputs": [
        {
          "output_type": "stream",
          "name": "stdout",
          "text": [
            "Fitting 3 folds for each of 30 candidates, totalling 90 fits\n"
          ]
        },
        {
          "output_type": "stream",
          "name": "stderr",
          "text": [
            "/usr/local/lib/python3.7/dist-packages/sklearn/model_selection/_search.py:926: DataConversionWarning: A column-vector y was passed when a 1d array was expected. Please change the shape of y to (n_samples,), for example using ravel().\n",
            "  self.best_estimator_.fit(X, y, **fit_params)\n"
          ]
        },
        {
          "output_type": "stream",
          "name": "stdout",
          "text": [
            "Fitting 3 folds for each of 30 candidates, totalling 90 fits\n"
          ]
        },
        {
          "output_type": "stream",
          "name": "stderr",
          "text": [
            "/usr/local/lib/python3.7/dist-packages/sklearn/model_selection/_search.py:926: DataConversionWarning: A column-vector y was passed when a 1d array was expected. Please change the shape of y to (n_samples,), for example using ravel().\n",
            "  self.best_estimator_.fit(X, y, **fit_params)\n"
          ]
        },
        {
          "output_type": "stream",
          "name": "stdout",
          "text": [
            "Fitting 3 folds for each of 30 candidates, totalling 90 fits\n"
          ]
        },
        {
          "output_type": "stream",
          "name": "stderr",
          "text": [
            "/usr/local/lib/python3.7/dist-packages/sklearn/model_selection/_search.py:926: DataConversionWarning: A column-vector y was passed when a 1d array was expected. Please change the shape of y to (n_samples,), for example using ravel().\n",
            "  self.best_estimator_.fit(X, y, **fit_params)\n"
          ]
        },
        {
          "output_type": "stream",
          "name": "stdout",
          "text": [
            "Fitting 3 folds for each of 30 candidates, totalling 90 fits\n"
          ]
        },
        {
          "output_type": "stream",
          "name": "stderr",
          "text": [
            "/usr/local/lib/python3.7/dist-packages/sklearn/model_selection/_search.py:926: DataConversionWarning: A column-vector y was passed when a 1d array was expected. Please change the shape of y to (n_samples,), for example using ravel().\n",
            "  self.best_estimator_.fit(X, y, **fit_params)\n"
          ]
        }
      ]
    },
    {
      "cell_type": "code",
      "source": [
        "rf_pca_wr = pd.DataFrame(pca_rf_wr.cv_results_)\n",
        "rf_pca_cb = pd.DataFrame(pca_rf_cb.cv_results_)\n",
        "rf_pca_og = pd.DataFrame(pca_rf_og.cv_results_)\n",
        "rf_pca_dt = pd.DataFrame(pca_rf_dt.cv_results_)"
      ],
      "metadata": {
        "id": "Tv7-j9SiUIHn"
      },
      "execution_count": null,
      "outputs": []
    },
    {
      "cell_type": "code",
      "source": [
        "print('WR best Params', pca_rf_wr.best_params_)\n",
        "print('CB best Params', pca_rf_cb.best_params_)\n",
        "print('OG best Params', pca_rf_og.best_params_)\n",
        "print('DT best Params', pca_rf_dt.best_params_)"
      ],
      "metadata": {
        "colab": {
          "base_uri": "https://localhost:8080/"
        },
        "id": "3bcyqIB4UteN",
        "outputId": "f8cdd292-bd29-4e4a-b01b-b381970b08f3"
      },
      "execution_count": null,
      "outputs": [
        {
          "output_type": "stream",
          "name": "stdout",
          "text": [
            "WR best Params {'n_estimators': 1400, 'min_samples_split': 2, 'min_samples_leaf': 1, 'max_features': 'auto', 'max_depth': 110, 'bootstrap': True}\n",
            "CB best Params {'n_estimators': 1400, 'min_samples_split': 2, 'min_samples_leaf': 1, 'max_features': 'auto', 'max_depth': 110, 'bootstrap': True}\n",
            "OG best Params {'n_estimators': 1400, 'min_samples_split': 2, 'min_samples_leaf': 1, 'max_features': 'auto', 'max_depth': 110, 'bootstrap': True}\n",
            "DT best Params {'n_estimators': 1400, 'min_samples_split': 2, 'min_samples_leaf': 1, 'max_features': 'auto', 'max_depth': 110, 'bootstrap': True}\n"
          ]
        }
      ]
    },
    {
      "cell_type": "code",
      "source": [
        "rf_pred_wr = pca_rf_wr.predict(pca_wr_test)\n",
        "rf_pred_cb = pca_rf_cb.predict(pca_cb_test)\n",
        "rf_pred_dt = pca_rf_dt.predict(pca_dt_test)\n",
        "rf_pred_og = pca_rf_og.predict(pca_og_test)"
      ],
      "metadata": {
        "id": "uruXLdShSsND"
      },
      "execution_count": null,
      "outputs": []
    },
    {
      "cell_type": "code",
      "source": [
        "from sklearn.metrics import mean_squared_error, r2_score\n",
        "#Using all predictors\n",
        "print(f\"(wr) MSE: {mean_squared_error(pca_wr_target_test, rf_pred_wr)}\")\n",
        "print(f\"(cb) MSE: {mean_squared_error(pca_cb_target_test, rf_pred_cb)}\")\n",
        "print(f\"(og) MSE: {mean_squared_error(pca_dt_target_test, rf_pred_dt)}\")\n",
        "print(f\"(dt) MSE: {mean_squared_error(pca_og_target_test, rf_pred_og)}\")"
      ],
      "metadata": {
        "colab": {
          "base_uri": "https://localhost:8080/"
        },
        "id": "WFqdKkXWTai4",
        "outputId": "03020f9c-30e6-40d5-c913-1b31464be748"
      },
      "execution_count": null,
      "outputs": [
        {
          "output_type": "stream",
          "name": "stdout",
          "text": [
            "(wr) MSE: 0.08817638539390805\n",
            "(cb) MSE: 0.09379021700686213\n",
            "(og) MSE: 0.08669140038928459\n",
            "(dt) MSE: 0.0676143528706247\n"
          ]
        }
      ]
    },
    {
      "cell_type": "code",
      "source": [
        "mse_scores = {'WR': 0.08817638539390805, 'CB':0.09379021700686213, 'OG':0.08669140038928459, 'DT':0.0676143528706247}\n",
        "data_items = mse_scores.items()\n",
        "data_list = list(data_items)\n",
        "mse_df = pd.DataFrame(data_list)\n",
        "print(f\"mse table for significant\\npredictors (PCA RF regression)\")\n",
        "mse_df"
      ],
      "metadata": {
        "colab": {
          "base_uri": "https://localhost:8080/",
          "height": 209
        },
        "id": "RCj2p-UeTwoe",
        "outputId": "2dbca6da-7d34-4e8d-914a-877595051849"
      },
      "execution_count": null,
      "outputs": [
        {
          "output_type": "stream",
          "name": "stdout",
          "text": [
            "mse table for significant\n",
            "predictors (PCA RF regression)\n"
          ]
        },
        {
          "output_type": "execute_result",
          "data": {
            "text/plain": [
              "    0         1\n",
              "0  WR  0.088176\n",
              "1  CB  0.093790\n",
              "2  OG  0.086691\n",
              "3  DT  0.067614"
            ],
            "text/html": [
              "\n",
              "  <div id=\"df-00ae4de4-b785-4923-b20d-33caedf8ea5c\">\n",
              "    <div class=\"colab-df-container\">\n",
              "      <div>\n",
              "<style scoped>\n",
              "    .dataframe tbody tr th:only-of-type {\n",
              "        vertical-align: middle;\n",
              "    }\n",
              "\n",
              "    .dataframe tbody tr th {\n",
              "        vertical-align: top;\n",
              "    }\n",
              "\n",
              "    .dataframe thead th {\n",
              "        text-align: right;\n",
              "    }\n",
              "</style>\n",
              "<table border=\"1\" class=\"dataframe\">\n",
              "  <thead>\n",
              "    <tr style=\"text-align: right;\">\n",
              "      <th></th>\n",
              "      <th>0</th>\n",
              "      <th>1</th>\n",
              "    </tr>\n",
              "  </thead>\n",
              "  <tbody>\n",
              "    <tr>\n",
              "      <th>0</th>\n",
              "      <td>WR</td>\n",
              "      <td>0.088176</td>\n",
              "    </tr>\n",
              "    <tr>\n",
              "      <th>1</th>\n",
              "      <td>CB</td>\n",
              "      <td>0.093790</td>\n",
              "    </tr>\n",
              "    <tr>\n",
              "      <th>2</th>\n",
              "      <td>OG</td>\n",
              "      <td>0.086691</td>\n",
              "    </tr>\n",
              "    <tr>\n",
              "      <th>3</th>\n",
              "      <td>DT</td>\n",
              "      <td>0.067614</td>\n",
              "    </tr>\n",
              "  </tbody>\n",
              "</table>\n",
              "</div>\n",
              "      <button class=\"colab-df-convert\" onclick=\"convertToInteractive('df-00ae4de4-b785-4923-b20d-33caedf8ea5c')\"\n",
              "              title=\"Convert this dataframe to an interactive table.\"\n",
              "              style=\"display:none;\">\n",
              "        \n",
              "  <svg xmlns=\"http://www.w3.org/2000/svg\" height=\"24px\"viewBox=\"0 0 24 24\"\n",
              "       width=\"24px\">\n",
              "    <path d=\"M0 0h24v24H0V0z\" fill=\"none\"/>\n",
              "    <path d=\"M18.56 5.44l.94 2.06.94-2.06 2.06-.94-2.06-.94-.94-2.06-.94 2.06-2.06.94zm-11 1L8.5 8.5l.94-2.06 2.06-.94-2.06-.94L8.5 2.5l-.94 2.06-2.06.94zm10 10l.94 2.06.94-2.06 2.06-.94-2.06-.94-.94-2.06-.94 2.06-2.06.94z\"/><path d=\"M17.41 7.96l-1.37-1.37c-.4-.4-.92-.59-1.43-.59-.52 0-1.04.2-1.43.59L10.3 9.45l-7.72 7.72c-.78.78-.78 2.05 0 2.83L4 21.41c.39.39.9.59 1.41.59.51 0 1.02-.2 1.41-.59l7.78-7.78 2.81-2.81c.8-.78.8-2.07 0-2.86zM5.41 20L4 18.59l7.72-7.72 1.47 1.35L5.41 20z\"/>\n",
              "  </svg>\n",
              "      </button>\n",
              "      \n",
              "  <style>\n",
              "    .colab-df-container {\n",
              "      display:flex;\n",
              "      flex-wrap:wrap;\n",
              "      gap: 12px;\n",
              "    }\n",
              "\n",
              "    .colab-df-convert {\n",
              "      background-color: #E8F0FE;\n",
              "      border: none;\n",
              "      border-radius: 50%;\n",
              "      cursor: pointer;\n",
              "      display: none;\n",
              "      fill: #1967D2;\n",
              "      height: 32px;\n",
              "      padding: 0 0 0 0;\n",
              "      width: 32px;\n",
              "    }\n",
              "\n",
              "    .colab-df-convert:hover {\n",
              "      background-color: #E2EBFA;\n",
              "      box-shadow: 0px 1px 2px rgba(60, 64, 67, 0.3), 0px 1px 3px 1px rgba(60, 64, 67, 0.15);\n",
              "      fill: #174EA6;\n",
              "    }\n",
              "\n",
              "    [theme=dark] .colab-df-convert {\n",
              "      background-color: #3B4455;\n",
              "      fill: #D2E3FC;\n",
              "    }\n",
              "\n",
              "    [theme=dark] .colab-df-convert:hover {\n",
              "      background-color: #434B5C;\n",
              "      box-shadow: 0px 1px 3px 1px rgba(0, 0, 0, 0.15);\n",
              "      filter: drop-shadow(0px 1px 2px rgba(0, 0, 0, 0.3));\n",
              "      fill: #FFFFFF;\n",
              "    }\n",
              "  </style>\n",
              "\n",
              "      <script>\n",
              "        const buttonEl =\n",
              "          document.querySelector('#df-00ae4de4-b785-4923-b20d-33caedf8ea5c button.colab-df-convert');\n",
              "        buttonEl.style.display =\n",
              "          google.colab.kernel.accessAllowed ? 'block' : 'none';\n",
              "\n",
              "        async function convertToInteractive(key) {\n",
              "          const element = document.querySelector('#df-00ae4de4-b785-4923-b20d-33caedf8ea5c');\n",
              "          const dataTable =\n",
              "            await google.colab.kernel.invokeFunction('convertToInteractive',\n",
              "                                                     [key], {});\n",
              "          if (!dataTable) return;\n",
              "\n",
              "          const docLinkHtml = 'Like what you see? Visit the ' +\n",
              "            '<a target=\"_blank\" href=https://colab.research.google.com/notebooks/data_table.ipynb>data table notebook</a>'\n",
              "            + ' to learn more about interactive tables.';\n",
              "          element.innerHTML = '';\n",
              "          dataTable['output_type'] = 'display_data';\n",
              "          await google.colab.output.renderOutput(dataTable, element);\n",
              "          const docLink = document.createElement('div');\n",
              "          docLink.innerHTML = docLinkHtml;\n",
              "          element.appendChild(docLink);\n",
              "        }\n",
              "      </script>\n",
              "    </div>\n",
              "  </div>\n",
              "  "
            ]
          },
          "metadata": {},
          "execution_count": 147
        }
      ]
    },
    {
      "cell_type": "markdown",
      "metadata": {
        "id": "IP0Osf7O3DoS"
      },
      "source": [
        "split up into train/test data (80/20)\n"
      ]
    },
    {
      "cell_type": "code",
      "execution_count": null,
      "metadata": {
        "id": "hV422DhFtYec"
      },
      "outputs": [],
      "source": [
        "from sklearn.model_selection import train_test_split\n",
        "\n",
        "wr_train, wr_test, wr_target_train, wr_target_test = train_test_split(df_wr, wr_target, test_size=0.20, random_state=42)\n",
        "dt_train, dt_test, dt_target_train, dt_target_test = train_test_split(df_dt, dt_target, test_size=0.20, random_state=42)\n",
        "og_train, og_test, og_target_train, og_target_test = train_test_split(df_og, og_target, test_size=0.20, random_state=42)\n",
        "cb_train, cb_test, cb_target_train, cb_target_test = train_test_split(df_cb, cb_target, test_size=0.20, random_state=42)"
      ]
    },
    {
      "cell_type": "markdown",
      "metadata": {
        "id": "G6XQnq7I3NI1"
      },
      "source": [
        "normalize our data"
      ]
    },
    {
      "cell_type": "code",
      "execution_count": null,
      "metadata": {
        "id": "_P-gce6VolMM"
      },
      "outputs": [],
      "source": [
        "from sklearn.preprocessing import MinMaxScaler\n",
        "scaler=MinMaxScaler(feature_range=(0,1))\n",
        "scaler1=MinMaxScaler(feature_range=(0,1))\n",
        "# df1=scaler.fit_transform(np.array(df1).reshape(-1,1))"
      ]
    },
    {
      "cell_type": "code",
      "execution_count": null,
      "metadata": {
        "id": "Ve381hMMpVCu"
      },
      "outputs": [],
      "source": [
        "wr_scaled_train = scaler.fit_transform(wr_train)\n",
        "dt_scaled_train = scaler.fit_transform(dt_train)\n",
        "og_scaled_train= scaler.fit_transform(og_train)\n",
        "cb_scaled_train = scaler.fit_transform(cb_train)"
      ]
    },
    {
      "cell_type": "code",
      "source": [
        "import numpy as np\n",
        "wr_target_train = scaler1.fit_transform(np.array(wr_target_train[['Pick']]))\n",
        "dt_target_train = scaler1.fit_transform(np.array(dt_target_train[['Pick']]))\n",
        "og_target_train = scaler1.fit_transform(np.array(og_target_train[['Pick']]))\n",
        "cb_target_train = scaler1.fit_transform(np.array(cb_target_train[['Pick']]))"
      ],
      "metadata": {
        "id": "F5YtJ_5dq_02"
      },
      "execution_count": null,
      "outputs": []
    },
    {
      "cell_type": "code",
      "source": [
        "wr_target_test = scaler1.transform(np.array(wr_target_test[['Pick']]))\n",
        "dt_target_test= scaler1.transform(np.array(dt_target_test[['Pick']]))\n",
        "og_target_test = scaler1.transform(np.array(og_target_test[['Pick']]))\n",
        "cb_target_test = scaler1.transform(np.array(cb_target_test[['Pick']]))"
      ],
      "metadata": {
        "id": "C8TUFeY5rfhf"
      },
      "execution_count": null,
      "outputs": []
    },
    {
      "cell_type": "code",
      "execution_count": null,
      "metadata": {
        "id": "dh6kd0-fmrFT"
      },
      "outputs": [],
      "source": [
        "wr_scaled_test = scaler.transform(wr_test)\n",
        "cb_scaled_test = scaler.transform(cb_test)\n",
        "og_scaled_test = scaler.transform(og_test)\n",
        "dt_scaled_test = scaler.transform(dt_test)"
      ]
    },
    {
      "cell_type": "markdown",
      "metadata": {
        "id": "qd232MgMz3Rv"
      },
      "source": [
        "Looking at the p-values for the predictors "
      ]
    },
    {
      "cell_type": "code",
      "execution_count": null,
      "metadata": {
        "id": "jYZZUO0gp79k"
      },
      "outputs": [],
      "source": [
        "from statsmodels.regression.linear_model import OLS"
      ]
    },
    {
      "cell_type": "code",
      "execution_count": null,
      "metadata": {
        "id": "f8BCiAELq99c"
      },
      "outputs": [],
      "source": [
        "model_wr = OLS(wr_target_train, wr_scaled_train)\n",
        "model_cb = OLS(cb_target_train, cb_scaled_train)\n",
        "model_og = OLS(og_target_train, og_scaled_train)\n",
        "model_dt = OLS(dt_target_train, dt_scaled_train)\n",
        "results_wr = model_wr.fit()\n",
        "results_cb = model_cb.fit()\n",
        "results_og = model_og.fit()\n",
        "results_dt = model_dt.fit()"
      ]
    },
    {
      "cell_type": "code",
      "execution_count": null,
      "metadata": {
        "id": "jxUcBsrirZfg"
      },
      "outputs": [],
      "source": [
        "#results_wr.summary()\n",
        "#results_cb.summary()\n",
        "#results_og.summary()\n",
        "#results_dt.summary()"
      ]
    },
    {
      "cell_type": "markdown",
      "metadata": {
        "id": "dugihJDizmU2"
      },
      "source": [
        "Linear Regression using all predictors"
      ]
    },
    {
      "cell_type": "code",
      "execution_count": null,
      "metadata": {
        "id": "VRYjlevhtTVE",
        "colab": {
          "base_uri": "https://localhost:8080/"
        },
        "outputId": "dad94111-167e-42d6-94bf-3d9940639696"
      },
      "outputs": [
        {
          "output_type": "stream",
          "name": "stderr",
          "text": [
            "/usr/local/lib/python3.7/dist-packages/sklearn/base.py:444: UserWarning: X has feature names, but LinearRegression was fitted without feature names\n",
            "  f\"X has feature names, but {self.__class__.__name__} was fitted without\"\n",
            "/usr/local/lib/python3.7/dist-packages/sklearn/base.py:444: UserWarning: X has feature names, but LinearRegression was fitted without feature names\n",
            "  f\"X has feature names, but {self.__class__.__name__} was fitted without\"\n",
            "/usr/local/lib/python3.7/dist-packages/sklearn/base.py:444: UserWarning: X has feature names, but LinearRegression was fitted without feature names\n",
            "  f\"X has feature names, but {self.__class__.__name__} was fitted without\"\n",
            "/usr/local/lib/python3.7/dist-packages/sklearn/base.py:444: UserWarning: X has feature names, but LinearRegression was fitted without feature names\n",
            "  f\"X has feature names, but {self.__class__.__name__} was fitted without\"\n"
          ]
        }
      ],
      "source": [
        "from sklearn.linear_model import LinearRegression\n",
        "\n",
        "# wr\n",
        "wr_scaled_train_all = pd.DataFrame(wr_scaled_train, columns=wr_train.columns)\n",
        "wr_scaled_test_all = pd.DataFrame(wr_scaled_test, columns=wr_test.columns)\n",
        "model_lin_wr_all = LinearRegression().fit(wr_scaled_train, wr_target_train)\n",
        "wr_predictions_all = model_lin_wr_all.predict(wr_scaled_test_all)\n",
        "\n",
        "# cb\n",
        "cb_scaled_train_all = pd.DataFrame(cb_scaled_train, columns=cb_train.columns)\n",
        "cb_scaled_test_all = pd.DataFrame(cb_scaled_test, columns=cb_test.columns)\n",
        "model_lin_cb_all = LinearRegression().fit(cb_scaled_train, cb_target_train)\n",
        "cb_predictions_all = model_lin_cb_all.predict(cb_scaled_test_all)\n",
        "\n",
        "# og\n",
        "og_scaled_train_all = pd.DataFrame(og_scaled_train, columns=og_train.columns)\n",
        "og_scaled_test_all = pd.DataFrame(og_scaled_test, columns=og_test.columns)\n",
        "model_lin_og_all = LinearRegression().fit(og_scaled_train, og_target_train)\n",
        "og_predictions_all = model_lin_og_all.predict(og_scaled_test_all)\n",
        "\n",
        "# dt\n",
        "dt_scaled_train_all = pd.DataFrame(dt_scaled_train, columns=dt_train.columns)\n",
        "dt_scaled_test_all = pd.DataFrame(dt_scaled_test, columns=dt_test.columns)\n",
        "model_lin_dt_all = LinearRegression().fit(dt_scaled_train, dt_target_train)\n",
        "dt_predictions_all = model_lin_dt_all.predict(dt_scaled_test_all)"
      ]
    },
    {
      "cell_type": "markdown",
      "metadata": {
        "id": "oCFFaKNnzg4m"
      },
      "source": [
        "Linear Regression using only the best predictors for each position"
      ]
    },
    {
      "cell_type": "code",
      "execution_count": null,
      "metadata": {
        "id": "LpQ_ZguomHh1"
      },
      "outputs": [],
      "source": [
        "from sklearn.linear_model import LinearRegression\n",
        "# wr\n",
        "wr_scaled_train = pd.DataFrame(wr_scaled_train, columns=wr_train.columns)\n",
        "model_wr = LinearRegression().fit(wr_scaled_train[['Forty']], wr_target_train)\n",
        "wr_predictions = model_wr.predict(wr_scaled_test_all[['Forty']])\n",
        "\n",
        "# cb\n",
        "cb_scaled_train = pd.DataFrame(cb_scaled_train, columns=cb_train.columns)\n",
        "model_cb = LinearRegression().fit(cb_scaled_train[['Forty', 'Vertical']], cb_target_train)\n",
        "cb_predictions = model_cb.predict(cb_scaled_test_all[['Forty', 'Vertical']])\n",
        "\n",
        "# og\n",
        "og_scaled_train = pd.DataFrame(og_scaled_train, columns=og_train.columns)\n",
        "model_og = LinearRegression().fit(og_scaled_train[['Vertical', 'Shuttle']], og_target_train)\n",
        "og_predictions = model_og.predict(og_scaled_test_all[['Vertical', 'Shuttle']])\n",
        "\n",
        "# dt\n",
        "dt_scaled_train = pd.DataFrame(dt_scaled_train, columns=dt_train.columns)\n",
        "model_dt = LinearRegression().fit(dt_scaled_train[['Forty', 'BroadJump']], dt_target_train)\n",
        "dt_predictions = model_dt.predict(dt_scaled_test_all[['Forty', 'BroadJump']])"
      ]
    },
    {
      "cell_type": "markdown",
      "metadata": {
        "id": "kDBHgTTkzsly"
      },
      "source": [
        "MSE and R2 for Linear Regression only using the best predictors"
      ]
    },
    {
      "cell_type": "code",
      "execution_count": null,
      "metadata": {
        "id": "k-4_gxSXnIJQ",
        "colab": {
          "base_uri": "https://localhost:8080/"
        },
        "outputId": "5678b3a6-f55e-4e9f-cb16-ccf756e110ef"
      },
      "outputs": [
        {
          "output_type": "stream",
          "name": "stdout",
          "text": [
            "(wr) MSE: 0.06935860527192124,\tR2: -0.08397262033419794\n",
            "(cb) MSE: 0.05315715700979474,\tR2: 0.12780953582781007\n",
            "(og) MSE: 0.0718409464720387,\tR2: -0.0850202966044753\n",
            "(dt) MSE: 0.2132115528990159,\tR2: -1.8348423120975155\n"
          ]
        }
      ],
      "source": [
        "from sklearn.metrics import mean_squared_error, r2_score\n",
        "#Only using significant predictors\n",
        "print(f\"(wr) MSE: {mean_squared_error(wr_target_test, wr_predictions)},\\tR2: {r2_score(wr_target_test, wr_predictions)}\")\n",
        "print(f\"(cb) MSE: {mean_squared_error(cb_target_test, cb_predictions)},\\tR2: {r2_score(cb_target_test, cb_predictions)}\")\n",
        "print(f\"(og) MSE: {mean_squared_error(og_target_test, og_predictions)},\\tR2: {r2_score(og_target_test, og_predictions)}\")\n",
        "print(f\"(dt) MSE: {mean_squared_error(dt_target_test, dt_predictions)},\\tR2: {r2_score(dt_target_test, dt_predictions)}\")"
      ]
    },
    {
      "cell_type": "markdown",
      "metadata": {
        "id": "MC8g9E-2zyeh"
      },
      "source": [
        "MSE and R2 using all predictors"
      ]
    },
    {
      "cell_type": "code",
      "execution_count": null,
      "metadata": {
        "id": "zf0Wn0Pbthzu",
        "colab": {
          "base_uri": "https://localhost:8080/"
        },
        "outputId": "92e5d40e-f752-4a2e-af2d-bc58a9d253e0"
      },
      "outputs": [
        {
          "output_type": "stream",
          "name": "stdout",
          "text": [
            "(wr) MSE: 0.07171339949259578,\tR2: -0.1207745780974081\n",
            "(cb) MSE: 0.05201256879621678,\tR2: 0.1465896772319607\n",
            "(og) MSE: 0.3041103410233049,\tR2: -3.5930059196258055\n",
            "(dt) MSE: 0.10144235795760431,\tR2: -0.3487687916862696\n"
          ]
        }
      ],
      "source": [
        "from sklearn.metrics import mean_squared_error, r2_score\n",
        "#Using all predictors\n",
        "print(f\"(wr) MSE: {mean_squared_error(wr_target_test, wr_predictions_all)},\\tR2: {r2_score(wr_target_test, wr_predictions_all)}\")\n",
        "print(f\"(cb) MSE: {mean_squared_error(cb_target_test, cb_predictions_all)},\\tR2: {r2_score(cb_target_test, cb_predictions_all)}\")\n",
        "print(f\"(og) MSE: {mean_squared_error(og_target_test, og_predictions_all)},\\tR2: {r2_score(og_target_test, og_predictions_all)}\")\n",
        "print(f\"(dt) MSE: {mean_squared_error(dt_target_test, dt_predictions_all)},\\tR2: {r2_score(dt_target_test, dt_predictions_all)}\")"
      ]
    },
    {
      "cell_type": "markdown",
      "source": [
        "MSE Table for significant Predictors Linear Regression"
      ],
      "metadata": {
        "id": "F2h7b95VqM1g"
      }
    },
    {
      "cell_type": "code",
      "source": [
        "mse_scores = {'WR':0.06935860527192124, 'CB':0.05315715700979474, 'OG':0.0718409464720387, 'DT': 0.2132115528990159}\n",
        "data_items = mse_scores.items()\n",
        "data_list = list(data_items)\n",
        "mse_df = pd.DataFrame(data_list)\n",
        "print(f\"mse table for significant\\npredictors (linear regression)\")\n",
        "mse_df"
      ],
      "metadata": {
        "colab": {
          "base_uri": "https://localhost:8080/",
          "height": 209
        },
        "id": "68y396E8o0zU",
        "outputId": "c2eede41-1e11-4018-d26a-ce4c615ba9fc"
      },
      "execution_count": null,
      "outputs": [
        {
          "output_type": "stream",
          "name": "stdout",
          "text": [
            "mse table for significant\n",
            "predictors (linear regression)\n"
          ]
        },
        {
          "output_type": "execute_result",
          "data": {
            "text/plain": [
              "    0         1\n",
              "0  WR  0.069359\n",
              "1  CB  0.053157\n",
              "2  OG  0.071841\n",
              "3  DT  0.213212"
            ],
            "text/html": [
              "\n",
              "  <div id=\"df-33f2daee-fe6e-4221-92e0-a990a15d01b5\">\n",
              "    <div class=\"colab-df-container\">\n",
              "      <div>\n",
              "<style scoped>\n",
              "    .dataframe tbody tr th:only-of-type {\n",
              "        vertical-align: middle;\n",
              "    }\n",
              "\n",
              "    .dataframe tbody tr th {\n",
              "        vertical-align: top;\n",
              "    }\n",
              "\n",
              "    .dataframe thead th {\n",
              "        text-align: right;\n",
              "    }\n",
              "</style>\n",
              "<table border=\"1\" class=\"dataframe\">\n",
              "  <thead>\n",
              "    <tr style=\"text-align: right;\">\n",
              "      <th></th>\n",
              "      <th>0</th>\n",
              "      <th>1</th>\n",
              "    </tr>\n",
              "  </thead>\n",
              "  <tbody>\n",
              "    <tr>\n",
              "      <th>0</th>\n",
              "      <td>WR</td>\n",
              "      <td>0.069359</td>\n",
              "    </tr>\n",
              "    <tr>\n",
              "      <th>1</th>\n",
              "      <td>CB</td>\n",
              "      <td>0.053157</td>\n",
              "    </tr>\n",
              "    <tr>\n",
              "      <th>2</th>\n",
              "      <td>OG</td>\n",
              "      <td>0.071841</td>\n",
              "    </tr>\n",
              "    <tr>\n",
              "      <th>3</th>\n",
              "      <td>DT</td>\n",
              "      <td>0.213212</td>\n",
              "    </tr>\n",
              "  </tbody>\n",
              "</table>\n",
              "</div>\n",
              "      <button class=\"colab-df-convert\" onclick=\"convertToInteractive('df-33f2daee-fe6e-4221-92e0-a990a15d01b5')\"\n",
              "              title=\"Convert this dataframe to an interactive table.\"\n",
              "              style=\"display:none;\">\n",
              "        \n",
              "  <svg xmlns=\"http://www.w3.org/2000/svg\" height=\"24px\"viewBox=\"0 0 24 24\"\n",
              "       width=\"24px\">\n",
              "    <path d=\"M0 0h24v24H0V0z\" fill=\"none\"/>\n",
              "    <path d=\"M18.56 5.44l.94 2.06.94-2.06 2.06-.94-2.06-.94-.94-2.06-.94 2.06-2.06.94zm-11 1L8.5 8.5l.94-2.06 2.06-.94-2.06-.94L8.5 2.5l-.94 2.06-2.06.94zm10 10l.94 2.06.94-2.06 2.06-.94-2.06-.94-.94-2.06-.94 2.06-2.06.94z\"/><path d=\"M17.41 7.96l-1.37-1.37c-.4-.4-.92-.59-1.43-.59-.52 0-1.04.2-1.43.59L10.3 9.45l-7.72 7.72c-.78.78-.78 2.05 0 2.83L4 21.41c.39.39.9.59 1.41.59.51 0 1.02-.2 1.41-.59l7.78-7.78 2.81-2.81c.8-.78.8-2.07 0-2.86zM5.41 20L4 18.59l7.72-7.72 1.47 1.35L5.41 20z\"/>\n",
              "  </svg>\n",
              "      </button>\n",
              "      \n",
              "  <style>\n",
              "    .colab-df-container {\n",
              "      display:flex;\n",
              "      flex-wrap:wrap;\n",
              "      gap: 12px;\n",
              "    }\n",
              "\n",
              "    .colab-df-convert {\n",
              "      background-color: #E8F0FE;\n",
              "      border: none;\n",
              "      border-radius: 50%;\n",
              "      cursor: pointer;\n",
              "      display: none;\n",
              "      fill: #1967D2;\n",
              "      height: 32px;\n",
              "      padding: 0 0 0 0;\n",
              "      width: 32px;\n",
              "    }\n",
              "\n",
              "    .colab-df-convert:hover {\n",
              "      background-color: #E2EBFA;\n",
              "      box-shadow: 0px 1px 2px rgba(60, 64, 67, 0.3), 0px 1px 3px 1px rgba(60, 64, 67, 0.15);\n",
              "      fill: #174EA6;\n",
              "    }\n",
              "\n",
              "    [theme=dark] .colab-df-convert {\n",
              "      background-color: #3B4455;\n",
              "      fill: #D2E3FC;\n",
              "    }\n",
              "\n",
              "    [theme=dark] .colab-df-convert:hover {\n",
              "      background-color: #434B5C;\n",
              "      box-shadow: 0px 1px 3px 1px rgba(0, 0, 0, 0.15);\n",
              "      filter: drop-shadow(0px 1px 2px rgba(0, 0, 0, 0.3));\n",
              "      fill: #FFFFFF;\n",
              "    }\n",
              "  </style>\n",
              "\n",
              "      <script>\n",
              "        const buttonEl =\n",
              "          document.querySelector('#df-33f2daee-fe6e-4221-92e0-a990a15d01b5 button.colab-df-convert');\n",
              "        buttonEl.style.display =\n",
              "          google.colab.kernel.accessAllowed ? 'block' : 'none';\n",
              "\n",
              "        async function convertToInteractive(key) {\n",
              "          const element = document.querySelector('#df-33f2daee-fe6e-4221-92e0-a990a15d01b5');\n",
              "          const dataTable =\n",
              "            await google.colab.kernel.invokeFunction('convertToInteractive',\n",
              "                                                     [key], {});\n",
              "          if (!dataTable) return;\n",
              "\n",
              "          const docLinkHtml = 'Like what you see? Visit the ' +\n",
              "            '<a target=\"_blank\" href=https://colab.research.google.com/notebooks/data_table.ipynb>data table notebook</a>'\n",
              "            + ' to learn more about interactive tables.';\n",
              "          element.innerHTML = '';\n",
              "          dataTable['output_type'] = 'display_data';\n",
              "          await google.colab.output.renderOutput(dataTable, element);\n",
              "          const docLink = document.createElement('div');\n",
              "          docLink.innerHTML = docLinkHtml;\n",
              "          element.appendChild(docLink);\n",
              "        }\n",
              "      </script>\n",
              "    </div>\n",
              "  </div>\n",
              "  "
            ]
          },
          "metadata": {},
          "execution_count": 59
        }
      ]
    },
    {
      "cell_type": "markdown",
      "source": [
        "MSE Table using All predictors Linear Regression"
      ],
      "metadata": {
        "id": "EVnFEpHXqdLw"
      }
    },
    {
      "cell_type": "code",
      "source": [
        "mse_scores = {'WR':0.07171339949259578, 'CB':0.05201256879621678, 'OG':0.3041103410233049, 'DT': 0.10144235795760431}\n",
        "data_items = mse_scores.items()\n",
        "data_list = list(data_items)\n",
        "mse_df = pd.DataFrame(data_list)\n",
        "print(f\"mse table for all\\npredictors (linear regression)\")\n",
        "mse_df"
      ],
      "metadata": {
        "colab": {
          "base_uri": "https://localhost:8080/",
          "height": 209
        },
        "id": "gui_gxfzqSJe",
        "outputId": "eff9ed03-8951-4499-972b-d3a71116f252"
      },
      "execution_count": null,
      "outputs": [
        {
          "output_type": "stream",
          "name": "stdout",
          "text": [
            "mse table for all\n",
            "predictors (linear regression)\n"
          ]
        },
        {
          "output_type": "execute_result",
          "data": {
            "text/plain": [
              "    0         1\n",
              "0  WR  0.071713\n",
              "1  CB  0.052013\n",
              "2  OG  0.304110\n",
              "3  DT  0.101442"
            ],
            "text/html": [
              "\n",
              "  <div id=\"df-ed6092fc-b64e-4b80-8d8d-5b4d43c9c0a4\">\n",
              "    <div class=\"colab-df-container\">\n",
              "      <div>\n",
              "<style scoped>\n",
              "    .dataframe tbody tr th:only-of-type {\n",
              "        vertical-align: middle;\n",
              "    }\n",
              "\n",
              "    .dataframe tbody tr th {\n",
              "        vertical-align: top;\n",
              "    }\n",
              "\n",
              "    .dataframe thead th {\n",
              "        text-align: right;\n",
              "    }\n",
              "</style>\n",
              "<table border=\"1\" class=\"dataframe\">\n",
              "  <thead>\n",
              "    <tr style=\"text-align: right;\">\n",
              "      <th></th>\n",
              "      <th>0</th>\n",
              "      <th>1</th>\n",
              "    </tr>\n",
              "  </thead>\n",
              "  <tbody>\n",
              "    <tr>\n",
              "      <th>0</th>\n",
              "      <td>WR</td>\n",
              "      <td>0.071713</td>\n",
              "    </tr>\n",
              "    <tr>\n",
              "      <th>1</th>\n",
              "      <td>CB</td>\n",
              "      <td>0.052013</td>\n",
              "    </tr>\n",
              "    <tr>\n",
              "      <th>2</th>\n",
              "      <td>OG</td>\n",
              "      <td>0.304110</td>\n",
              "    </tr>\n",
              "    <tr>\n",
              "      <th>3</th>\n",
              "      <td>DT</td>\n",
              "      <td>0.101442</td>\n",
              "    </tr>\n",
              "  </tbody>\n",
              "</table>\n",
              "</div>\n",
              "      <button class=\"colab-df-convert\" onclick=\"convertToInteractive('df-ed6092fc-b64e-4b80-8d8d-5b4d43c9c0a4')\"\n",
              "              title=\"Convert this dataframe to an interactive table.\"\n",
              "              style=\"display:none;\">\n",
              "        \n",
              "  <svg xmlns=\"http://www.w3.org/2000/svg\" height=\"24px\"viewBox=\"0 0 24 24\"\n",
              "       width=\"24px\">\n",
              "    <path d=\"M0 0h24v24H0V0z\" fill=\"none\"/>\n",
              "    <path d=\"M18.56 5.44l.94 2.06.94-2.06 2.06-.94-2.06-.94-.94-2.06-.94 2.06-2.06.94zm-11 1L8.5 8.5l.94-2.06 2.06-.94-2.06-.94L8.5 2.5l-.94 2.06-2.06.94zm10 10l.94 2.06.94-2.06 2.06-.94-2.06-.94-.94-2.06-.94 2.06-2.06.94z\"/><path d=\"M17.41 7.96l-1.37-1.37c-.4-.4-.92-.59-1.43-.59-.52 0-1.04.2-1.43.59L10.3 9.45l-7.72 7.72c-.78.78-.78 2.05 0 2.83L4 21.41c.39.39.9.59 1.41.59.51 0 1.02-.2 1.41-.59l7.78-7.78 2.81-2.81c.8-.78.8-2.07 0-2.86zM5.41 20L4 18.59l7.72-7.72 1.47 1.35L5.41 20z\"/>\n",
              "  </svg>\n",
              "      </button>\n",
              "      \n",
              "  <style>\n",
              "    .colab-df-container {\n",
              "      display:flex;\n",
              "      flex-wrap:wrap;\n",
              "      gap: 12px;\n",
              "    }\n",
              "\n",
              "    .colab-df-convert {\n",
              "      background-color: #E8F0FE;\n",
              "      border: none;\n",
              "      border-radius: 50%;\n",
              "      cursor: pointer;\n",
              "      display: none;\n",
              "      fill: #1967D2;\n",
              "      height: 32px;\n",
              "      padding: 0 0 0 0;\n",
              "      width: 32px;\n",
              "    }\n",
              "\n",
              "    .colab-df-convert:hover {\n",
              "      background-color: #E2EBFA;\n",
              "      box-shadow: 0px 1px 2px rgba(60, 64, 67, 0.3), 0px 1px 3px 1px rgba(60, 64, 67, 0.15);\n",
              "      fill: #174EA6;\n",
              "    }\n",
              "\n",
              "    [theme=dark] .colab-df-convert {\n",
              "      background-color: #3B4455;\n",
              "      fill: #D2E3FC;\n",
              "    }\n",
              "\n",
              "    [theme=dark] .colab-df-convert:hover {\n",
              "      background-color: #434B5C;\n",
              "      box-shadow: 0px 1px 3px 1px rgba(0, 0, 0, 0.15);\n",
              "      filter: drop-shadow(0px 1px 2px rgba(0, 0, 0, 0.3));\n",
              "      fill: #FFFFFF;\n",
              "    }\n",
              "  </style>\n",
              "\n",
              "      <script>\n",
              "        const buttonEl =\n",
              "          document.querySelector('#df-ed6092fc-b64e-4b80-8d8d-5b4d43c9c0a4 button.colab-df-convert');\n",
              "        buttonEl.style.display =\n",
              "          google.colab.kernel.accessAllowed ? 'block' : 'none';\n",
              "\n",
              "        async function convertToInteractive(key) {\n",
              "          const element = document.querySelector('#df-ed6092fc-b64e-4b80-8d8d-5b4d43c9c0a4');\n",
              "          const dataTable =\n",
              "            await google.colab.kernel.invokeFunction('convertToInteractive',\n",
              "                                                     [key], {});\n",
              "          if (!dataTable) return;\n",
              "\n",
              "          const docLinkHtml = 'Like what you see? Visit the ' +\n",
              "            '<a target=\"_blank\" href=https://colab.research.google.com/notebooks/data_table.ipynb>data table notebook</a>'\n",
              "            + ' to learn more about interactive tables.';\n",
              "          element.innerHTML = '';\n",
              "          dataTable['output_type'] = 'display_data';\n",
              "          await google.colab.output.renderOutput(dataTable, element);\n",
              "          const docLink = document.createElement('div');\n",
              "          docLink.innerHTML = docLinkHtml;\n",
              "          element.appendChild(docLink);\n",
              "        }\n",
              "      </script>\n",
              "    </div>\n",
              "  </div>\n",
              "  "
            ]
          },
          "metadata": {},
          "execution_count": 60
        }
      ]
    },
    {
      "cell_type": "markdown",
      "metadata": {
        "id": "ggzyBcMLz9J7"
      },
      "source": [
        "Using grid search to find the best n_neighbors value"
      ]
    },
    {
      "cell_type": "code",
      "execution_count": null,
      "metadata": {
        "id": "ipVDXzhop2M3"
      },
      "outputs": [],
      "source": [
        "from sklearn.neighbors import KNeighborsRegressor\n",
        "from sklearn.model_selection import GridSearchCV, RandomizedSearchCV\n",
        "knn_wr = KNeighborsRegressor(n_neighbors=6).fit(wr_scaled_train, wr_target_train)\n",
        "knn_cb = KNeighborsRegressor(n_neighbors=6).fit(cb_scaled_train, cb_target_train)\n",
        "knn_og = KNeighborsRegressor(n_neighbors=6).fit(og_scaled_train, og_target_train)\n",
        "knn_dt = KNeighborsRegressor(n_neighbors=6).fit(dt_scaled_train, dt_target_train)"
      ]
    },
    {
      "cell_type": "code",
      "execution_count": null,
      "metadata": {
        "id": "cYvjtVA9u1KG"
      },
      "outputs": [],
      "source": [
        "parameters = {'n_neighbors': list(range(1, 11))}\n",
        "knn1 = KNeighborsRegressor()\n",
        "clf = GridSearchCV(knn1, parameters)\n",
        "clf_wr = clf.fit(wr_scaled_train, wr_target_train)\n",
        "clf_cb = clf.fit(cb_scaled_train, cb_target_train)\n",
        "clf_og = clf.fit(og_scaled_train, og_target_train)\n",
        "clf_dt = clf.fit(dt_scaled_train, dt_target_train)"
      ]
    },
    {
      "cell_type": "code",
      "source": [
        "clf_wr.best_params_"
      ],
      "metadata": {
        "colab": {
          "base_uri": "https://localhost:8080/"
        },
        "id": "cskExH72n32Q",
        "outputId": "b31a705b-74d9-484c-fdf1-43b396cafb5c"
      },
      "execution_count": null,
      "outputs": [
        {
          "output_type": "execute_result",
          "data": {
            "text/plain": [
              "{'n_neighbors': 6}"
            ]
          },
          "metadata": {},
          "execution_count": 63
        }
      ]
    },
    {
      "cell_type": "code",
      "execution_count": null,
      "metadata": {
        "id": "M9LI07u8vKab"
      },
      "outputs": [],
      "source": [
        "# pd.DataFrame(clf.cv_results_) # display data frame"
      ]
    },
    {
      "cell_type": "code",
      "execution_count": null,
      "metadata": {
        "id": "_r5rZ2Boufvn",
        "colab": {
          "base_uri": "https://localhost:8080/"
        },
        "outputId": "752a80c3-f505-4c1f-9377-c4589a06ee89"
      },
      "outputs": [
        {
          "output_type": "stream",
          "name": "stderr",
          "text": [
            "/usr/local/lib/python3.7/dist-packages/sklearn/base.py:451: UserWarning: X does not have valid feature names, but KNeighborsRegressor was fitted with feature names\n",
            "  \"X does not have valid feature names, but\"\n",
            "/usr/local/lib/python3.7/dist-packages/sklearn/base.py:451: UserWarning: X does not have valid feature names, but KNeighborsRegressor was fitted with feature names\n",
            "  \"X does not have valid feature names, but\"\n",
            "/usr/local/lib/python3.7/dist-packages/sklearn/base.py:451: UserWarning: X does not have valid feature names, but KNeighborsRegressor was fitted with feature names\n",
            "  \"X does not have valid feature names, but\"\n",
            "/usr/local/lib/python3.7/dist-packages/sklearn/base.py:451: UserWarning: X does not have valid feature names, but KNeighborsRegressor was fitted with feature names\n",
            "  \"X does not have valid feature names, but\"\n"
          ]
        }
      ],
      "source": [
        "knn_wr_predict = knn_wr.predict(wr_scaled_test)\n",
        "knn_cb_predict = knn_cb.predict(cb_scaled_test)\n",
        "knn_og_predict = knn_og.predict(og_scaled_test)\n",
        "knn_dt_predict = knn_dt.predict(dt_scaled_test)"
      ]
    },
    {
      "cell_type": "code",
      "execution_count": null,
      "metadata": {
        "id": "nsFqJ6XsumXJ",
        "colab": {
          "base_uri": "https://localhost:8080/"
        },
        "outputId": "2ac54a07-6e95-4990-e5d1-9d8a0ae7b2f4"
      },
      "outputs": [
        {
          "output_type": "stream",
          "name": "stdout",
          "text": [
            "KNN MSE:\n",
            "wr:\t0.08766979832647016\n",
            "cb:\t0.05716637725747038\n",
            "og:\t0.08438446458532264\n",
            "dt:\t0.09453031481448411\n"
          ]
        }
      ],
      "source": [
        "#KNN MSE\n",
        "print(f\"KNN MSE:\\nwr:\\t{mean_squared_error(wr_target_test, knn_wr_predict)}\\ncb:\\t{mean_squared_error(cb_target_test, knn_cb_predict)}\\nog:\\t{mean_squared_error(og_target_test, knn_og_predict)}\\ndt:\\t{mean_squared_error(dt_target_test, knn_dt_predict)}\")"
      ]
    },
    {
      "cell_type": "markdown",
      "source": [
        "KNN MSE DataFrame"
      ],
      "metadata": {
        "id": "xTak4x2tuLbg"
      }
    },
    {
      "cell_type": "code",
      "source": [
        "mse_scores = {'WR':0.08766979832647016, 'cb':0.08438446458532264, 'og':0.08438446458532264, 'dt': 0.09453031481448411}\n",
        "data_items = mse_scores.items()\n",
        "data_list = list(data_items)\n",
        "mse_df = pd.DataFrame(data_list)\n",
        "print(\"mse scores for\\nknn regression\")\n",
        "mse_df"
      ],
      "metadata": {
        "colab": {
          "base_uri": "https://localhost:8080/",
          "height": 209
        },
        "id": "8_5npcgIt-D3",
        "outputId": "244f71c0-c2f9-4544-b13f-9ed7b758507b"
      },
      "execution_count": null,
      "outputs": [
        {
          "output_type": "stream",
          "name": "stdout",
          "text": [
            "mse scores for\n",
            "knn regression\n"
          ]
        },
        {
          "output_type": "execute_result",
          "data": {
            "text/plain": [
              "    0         1\n",
              "0  WR  0.087670\n",
              "1  cb  0.084384\n",
              "2  og  0.084384\n",
              "3  dt  0.094530"
            ],
            "text/html": [
              "\n",
              "  <div id=\"df-f3e6f5ff-8493-4af0-b0e3-45523d7239d1\">\n",
              "    <div class=\"colab-df-container\">\n",
              "      <div>\n",
              "<style scoped>\n",
              "    .dataframe tbody tr th:only-of-type {\n",
              "        vertical-align: middle;\n",
              "    }\n",
              "\n",
              "    .dataframe tbody tr th {\n",
              "        vertical-align: top;\n",
              "    }\n",
              "\n",
              "    .dataframe thead th {\n",
              "        text-align: right;\n",
              "    }\n",
              "</style>\n",
              "<table border=\"1\" class=\"dataframe\">\n",
              "  <thead>\n",
              "    <tr style=\"text-align: right;\">\n",
              "      <th></th>\n",
              "      <th>0</th>\n",
              "      <th>1</th>\n",
              "    </tr>\n",
              "  </thead>\n",
              "  <tbody>\n",
              "    <tr>\n",
              "      <th>0</th>\n",
              "      <td>WR</td>\n",
              "      <td>0.087670</td>\n",
              "    </tr>\n",
              "    <tr>\n",
              "      <th>1</th>\n",
              "      <td>cb</td>\n",
              "      <td>0.084384</td>\n",
              "    </tr>\n",
              "    <tr>\n",
              "      <th>2</th>\n",
              "      <td>og</td>\n",
              "      <td>0.084384</td>\n",
              "    </tr>\n",
              "    <tr>\n",
              "      <th>3</th>\n",
              "      <td>dt</td>\n",
              "      <td>0.094530</td>\n",
              "    </tr>\n",
              "  </tbody>\n",
              "</table>\n",
              "</div>\n",
              "      <button class=\"colab-df-convert\" onclick=\"convertToInteractive('df-f3e6f5ff-8493-4af0-b0e3-45523d7239d1')\"\n",
              "              title=\"Convert this dataframe to an interactive table.\"\n",
              "              style=\"display:none;\">\n",
              "        \n",
              "  <svg xmlns=\"http://www.w3.org/2000/svg\" height=\"24px\"viewBox=\"0 0 24 24\"\n",
              "       width=\"24px\">\n",
              "    <path d=\"M0 0h24v24H0V0z\" fill=\"none\"/>\n",
              "    <path d=\"M18.56 5.44l.94 2.06.94-2.06 2.06-.94-2.06-.94-.94-2.06-.94 2.06-2.06.94zm-11 1L8.5 8.5l.94-2.06 2.06-.94-2.06-.94L8.5 2.5l-.94 2.06-2.06.94zm10 10l.94 2.06.94-2.06 2.06-.94-2.06-.94-.94-2.06-.94 2.06-2.06.94z\"/><path d=\"M17.41 7.96l-1.37-1.37c-.4-.4-.92-.59-1.43-.59-.52 0-1.04.2-1.43.59L10.3 9.45l-7.72 7.72c-.78.78-.78 2.05 0 2.83L4 21.41c.39.39.9.59 1.41.59.51 0 1.02-.2 1.41-.59l7.78-7.78 2.81-2.81c.8-.78.8-2.07 0-2.86zM5.41 20L4 18.59l7.72-7.72 1.47 1.35L5.41 20z\"/>\n",
              "  </svg>\n",
              "      </button>\n",
              "      \n",
              "  <style>\n",
              "    .colab-df-container {\n",
              "      display:flex;\n",
              "      flex-wrap:wrap;\n",
              "      gap: 12px;\n",
              "    }\n",
              "\n",
              "    .colab-df-convert {\n",
              "      background-color: #E8F0FE;\n",
              "      border: none;\n",
              "      border-radius: 50%;\n",
              "      cursor: pointer;\n",
              "      display: none;\n",
              "      fill: #1967D2;\n",
              "      height: 32px;\n",
              "      padding: 0 0 0 0;\n",
              "      width: 32px;\n",
              "    }\n",
              "\n",
              "    .colab-df-convert:hover {\n",
              "      background-color: #E2EBFA;\n",
              "      box-shadow: 0px 1px 2px rgba(60, 64, 67, 0.3), 0px 1px 3px 1px rgba(60, 64, 67, 0.15);\n",
              "      fill: #174EA6;\n",
              "    }\n",
              "\n",
              "    [theme=dark] .colab-df-convert {\n",
              "      background-color: #3B4455;\n",
              "      fill: #D2E3FC;\n",
              "    }\n",
              "\n",
              "    [theme=dark] .colab-df-convert:hover {\n",
              "      background-color: #434B5C;\n",
              "      box-shadow: 0px 1px 3px 1px rgba(0, 0, 0, 0.15);\n",
              "      filter: drop-shadow(0px 1px 2px rgba(0, 0, 0, 0.3));\n",
              "      fill: #FFFFFF;\n",
              "    }\n",
              "  </style>\n",
              "\n",
              "      <script>\n",
              "        const buttonEl =\n",
              "          document.querySelector('#df-f3e6f5ff-8493-4af0-b0e3-45523d7239d1 button.colab-df-convert');\n",
              "        buttonEl.style.display =\n",
              "          google.colab.kernel.accessAllowed ? 'block' : 'none';\n",
              "\n",
              "        async function convertToInteractive(key) {\n",
              "          const element = document.querySelector('#df-f3e6f5ff-8493-4af0-b0e3-45523d7239d1');\n",
              "          const dataTable =\n",
              "            await google.colab.kernel.invokeFunction('convertToInteractive',\n",
              "                                                     [key], {});\n",
              "          if (!dataTable) return;\n",
              "\n",
              "          const docLinkHtml = 'Like what you see? Visit the ' +\n",
              "            '<a target=\"_blank\" href=https://colab.research.google.com/notebooks/data_table.ipynb>data table notebook</a>'\n",
              "            + ' to learn more about interactive tables.';\n",
              "          element.innerHTML = '';\n",
              "          dataTable['output_type'] = 'display_data';\n",
              "          await google.colab.output.renderOutput(dataTable, element);\n",
              "          const docLink = document.createElement('div');\n",
              "          docLink.innerHTML = docLinkHtml;\n",
              "          element.appendChild(docLink);\n",
              "        }\n",
              "      </script>\n",
              "    </div>\n",
              "  </div>\n",
              "  "
            ]
          },
          "metadata": {},
          "execution_count": 71
        }
      ]
    },
    {
      "cell_type": "markdown",
      "metadata": {
        "id": "yMhsbG7N0YBn"
      },
      "source": [
        "Random Grid for RandomForest"
      ]
    },
    {
      "cell_type": "code",
      "execution_count": null,
      "metadata": {
        "id": "hBfpYGQ1v9W7"
      },
      "outputs": [],
      "source": [
        "import numpy as np\n",
        "# Number of trees in random forest\n",
        "n_estimators = [int(x) for x in np.linspace(start = 200, stop = 2000, num = 10)]\n",
        "# Number of features to consider at every split\n",
        "max_features = ['auto', 'sqrt']\n",
        "# Maximum number of levels in tree\n",
        "max_depth = [int(x) for x in np.linspace(10, 110, num = 11)]\n",
        "max_depth.append(None)\n",
        "# Minimum number of samples required to split a node\n",
        "min_samples_split = [2, 5, 10]\n",
        "# Minimum number of samples required at each leaf node\n",
        "min_samples_leaf = [1, 2, 4]\n",
        "# Method of selecting samples for training each tree\n",
        "bootstrap = [True, False]\n",
        "# Create the random grid\n",
        "random_grid = {'n_estimators': n_estimators,\n",
        "               'max_features': max_features,\n",
        "               'max_depth': max_depth,\n",
        "               'min_samples_split': min_samples_split,\n",
        "               'min_samples_leaf': min_samples_leaf,\n",
        "               'bootstrap': bootstrap}"
      ]
    },
    {
      "cell_type": "code",
      "execution_count": null,
      "metadata": {
        "id": "ppyB82SGwU2c"
      },
      "outputs": [],
      "source": [
        "from sklearn.ensemble import RandomForestRegressor\n",
        "rf = RandomForestRegressor(random_state = 42)\n"
      ]
    },
    {
      "cell_type": "code",
      "execution_count": null,
      "metadata": {
        "id": "9g1WhVw7v9eF",
        "colab": {
          "base_uri": "https://localhost:8080/"
        },
        "outputId": "7e4320c0-3cb5-4fe5-cc2a-ccc7d09672a1"
      },
      "outputs": [
        {
          "output_type": "stream",
          "name": "stdout",
          "text": [
            "Fitting 3 folds for each of 30 candidates, totalling 90 fits\n"
          ]
        },
        {
          "output_type": "stream",
          "name": "stderr",
          "text": [
            "/usr/local/lib/python3.7/dist-packages/sklearn/model_selection/_search.py:926: DataConversionWarning: A column-vector y was passed when a 1d array was expected. Please change the shape of y to (n_samples,), for example using ravel().\n",
            "  self.best_estimator_.fit(X, y, **fit_params)\n"
          ]
        },
        {
          "output_type": "stream",
          "name": "stdout",
          "text": [
            "Fitting 3 folds for each of 30 candidates, totalling 90 fits\n"
          ]
        },
        {
          "output_type": "stream",
          "name": "stderr",
          "text": [
            "/usr/local/lib/python3.7/dist-packages/sklearn/model_selection/_search.py:926: DataConversionWarning: A column-vector y was passed when a 1d array was expected. Please change the shape of y to (n_samples,), for example using ravel().\n",
            "  self.best_estimator_.fit(X, y, **fit_params)\n"
          ]
        },
        {
          "output_type": "stream",
          "name": "stdout",
          "text": [
            "Fitting 3 folds for each of 30 candidates, totalling 90 fits\n"
          ]
        },
        {
          "output_type": "stream",
          "name": "stderr",
          "text": [
            "/usr/local/lib/python3.7/dist-packages/sklearn/model_selection/_search.py:926: DataConversionWarning: A column-vector y was passed when a 1d array was expected. Please change the shape of y to (n_samples,), for example using ravel().\n",
            "  self.best_estimator_.fit(X, y, **fit_params)\n"
          ]
        },
        {
          "output_type": "stream",
          "name": "stdout",
          "text": [
            "Fitting 3 folds for each of 30 candidates, totalling 90 fits\n"
          ]
        },
        {
          "output_type": "stream",
          "name": "stderr",
          "text": [
            "/usr/local/lib/python3.7/dist-packages/sklearn/model_selection/_search.py:926: DataConversionWarning: A column-vector y was passed when a 1d array was expected. Please change the shape of y to (n_samples,), for example using ravel().\n",
            "  self.best_estimator_.fit(X, y, **fit_params)\n"
          ]
        }
      ],
      "source": [
        "rf_random = RandomizedSearchCV(estimator = rf, param_distributions = random_grid, n_iter = 30, cv = 3, verbose=2, random_state=42, n_jobs = -1)\n",
        "# Fit the random search model\n",
        "rf_wr = rf_random.fit(wr_scaled_train, wr_target_train)\n",
        "rf_cb = rf_random.fit(cb_scaled_train, cb_target_train)\n",
        "rf_og = rf_random.fit(og_scaled_train, og_target_train)\n",
        "rf_dt = rf_random.fit(dt_scaled_train, dt_target_train)"
      ]
    },
    {
      "cell_type": "code",
      "execution_count": null,
      "metadata": {
        "id": "lAOJFofdyIxe",
        "colab": {
          "base_uri": "https://localhost:8080/"
        },
        "outputId": "8dd09b47-afba-478e-b86f-d2a31ad5054f"
      },
      "outputs": [
        {
          "output_type": "stream",
          "name": "stderr",
          "text": [
            "/usr/local/lib/python3.7/dist-packages/sklearn/base.py:451: UserWarning: X does not have valid feature names, but RandomForestRegressor was fitted with feature names\n",
            "  \"X does not have valid feature names, but\"\n",
            "/usr/local/lib/python3.7/dist-packages/sklearn/base.py:451: UserWarning: X does not have valid feature names, but RandomForestRegressor was fitted with feature names\n",
            "  \"X does not have valid feature names, but\"\n",
            "/usr/local/lib/python3.7/dist-packages/sklearn/base.py:451: UserWarning: X does not have valid feature names, but RandomForestRegressor was fitted with feature names\n",
            "  \"X does not have valid feature names, but\"\n",
            "/usr/local/lib/python3.7/dist-packages/sklearn/base.py:451: UserWarning: X does not have valid feature names, but RandomForestRegressor was fitted with feature names\n",
            "  \"X does not have valid feature names, but\"\n"
          ]
        },
        {
          "output_type": "stream",
          "name": "stdout",
          "text": [
            "MSE:\n",
            "\n",
            "wr: 0.07455320685263972\n",
            "cb: 0.06283775245119318\n",
            "og: 0.06285153342552435\n",
            "dt: 0.08835408228150471\n"
          ]
        }
      ],
      "source": [
        "rf_wr_pred = rf_random.predict(wr_scaled_test)\n",
        "mse_wr = mean_squared_error(wr_target_test, rf_wr_pred)\n",
        "rf_cb_pred = rf_random.predict(cb_scaled_test)\n",
        "mse_cb = mean_squared_error(cb_target_test, rf_cb_pred)\n",
        "rf_og_pred = rf_random.predict(og_scaled_test)\n",
        "mse_og = mean_squared_error(og_target_test, rf_og_pred)\n",
        "rf_dt_pred = rf_random.predict(dt_scaled_test)\n",
        "mse_dt = mean_squared_error(dt_target_test, rf_dt_pred)\n",
        "\n",
        "print(f\"MSE:\\n\\nwr: {mse_wr}\\ncb: {mse_cb}\\nog: {mse_og}\\ndt: {mse_dt}\")"
      ]
    },
    {
      "cell_type": "code",
      "source": [
        "mse_scores = {'WR':0.07455320685263972, 'cb':0.06283775245119318, 'og':0.06285153342552435, 'dt': 0.08835408228150471}\n",
        "data_items = mse_scores.items()\n",
        "data_list = list(data_items)\n",
        "mse_df = pd.DataFrame(data_list)\n",
        "print(\"mse scores for\\nrandom forest regression\")\n",
        "mse_df"
      ],
      "metadata": {
        "colab": {
          "base_uri": "https://localhost:8080/",
          "height": 209
        },
        "id": "GAniiBp9xEyM",
        "outputId": "bb0c1385-b96c-4dd2-db67-9925cd029fcd"
      },
      "execution_count": null,
      "outputs": [
        {
          "output_type": "stream",
          "name": "stdout",
          "text": [
            "mse scores for\n",
            "random forest regression\n"
          ]
        },
        {
          "output_type": "execute_result",
          "data": {
            "text/plain": [
              "    0         1\n",
              "0  WR  0.074553\n",
              "1  cb  0.062838\n",
              "2  og  0.062852\n",
              "3  dt  0.088354"
            ],
            "text/html": [
              "\n",
              "  <div id=\"df-b97fdf80-2643-4eae-8eb4-4f25cc5bd315\">\n",
              "    <div class=\"colab-df-container\">\n",
              "      <div>\n",
              "<style scoped>\n",
              "    .dataframe tbody tr th:only-of-type {\n",
              "        vertical-align: middle;\n",
              "    }\n",
              "\n",
              "    .dataframe tbody tr th {\n",
              "        vertical-align: top;\n",
              "    }\n",
              "\n",
              "    .dataframe thead th {\n",
              "        text-align: right;\n",
              "    }\n",
              "</style>\n",
              "<table border=\"1\" class=\"dataframe\">\n",
              "  <thead>\n",
              "    <tr style=\"text-align: right;\">\n",
              "      <th></th>\n",
              "      <th>0</th>\n",
              "      <th>1</th>\n",
              "    </tr>\n",
              "  </thead>\n",
              "  <tbody>\n",
              "    <tr>\n",
              "      <th>0</th>\n",
              "      <td>WR</td>\n",
              "      <td>0.074553</td>\n",
              "    </tr>\n",
              "    <tr>\n",
              "      <th>1</th>\n",
              "      <td>cb</td>\n",
              "      <td>0.062838</td>\n",
              "    </tr>\n",
              "    <tr>\n",
              "      <th>2</th>\n",
              "      <td>og</td>\n",
              "      <td>0.062852</td>\n",
              "    </tr>\n",
              "    <tr>\n",
              "      <th>3</th>\n",
              "      <td>dt</td>\n",
              "      <td>0.088354</td>\n",
              "    </tr>\n",
              "  </tbody>\n",
              "</table>\n",
              "</div>\n",
              "      <button class=\"colab-df-convert\" onclick=\"convertToInteractive('df-b97fdf80-2643-4eae-8eb4-4f25cc5bd315')\"\n",
              "              title=\"Convert this dataframe to an interactive table.\"\n",
              "              style=\"display:none;\">\n",
              "        \n",
              "  <svg xmlns=\"http://www.w3.org/2000/svg\" height=\"24px\"viewBox=\"0 0 24 24\"\n",
              "       width=\"24px\">\n",
              "    <path d=\"M0 0h24v24H0V0z\" fill=\"none\"/>\n",
              "    <path d=\"M18.56 5.44l.94 2.06.94-2.06 2.06-.94-2.06-.94-.94-2.06-.94 2.06-2.06.94zm-11 1L8.5 8.5l.94-2.06 2.06-.94-2.06-.94L8.5 2.5l-.94 2.06-2.06.94zm10 10l.94 2.06.94-2.06 2.06-.94-2.06-.94-.94-2.06-.94 2.06-2.06.94z\"/><path d=\"M17.41 7.96l-1.37-1.37c-.4-.4-.92-.59-1.43-.59-.52 0-1.04.2-1.43.59L10.3 9.45l-7.72 7.72c-.78.78-.78 2.05 0 2.83L4 21.41c.39.39.9.59 1.41.59.51 0 1.02-.2 1.41-.59l7.78-7.78 2.81-2.81c.8-.78.8-2.07 0-2.86zM5.41 20L4 18.59l7.72-7.72 1.47 1.35L5.41 20z\"/>\n",
              "  </svg>\n",
              "      </button>\n",
              "      \n",
              "  <style>\n",
              "    .colab-df-container {\n",
              "      display:flex;\n",
              "      flex-wrap:wrap;\n",
              "      gap: 12px;\n",
              "    }\n",
              "\n",
              "    .colab-df-convert {\n",
              "      background-color: #E8F0FE;\n",
              "      border: none;\n",
              "      border-radius: 50%;\n",
              "      cursor: pointer;\n",
              "      display: none;\n",
              "      fill: #1967D2;\n",
              "      height: 32px;\n",
              "      padding: 0 0 0 0;\n",
              "      width: 32px;\n",
              "    }\n",
              "\n",
              "    .colab-df-convert:hover {\n",
              "      background-color: #E2EBFA;\n",
              "      box-shadow: 0px 1px 2px rgba(60, 64, 67, 0.3), 0px 1px 3px 1px rgba(60, 64, 67, 0.15);\n",
              "      fill: #174EA6;\n",
              "    }\n",
              "\n",
              "    [theme=dark] .colab-df-convert {\n",
              "      background-color: #3B4455;\n",
              "      fill: #D2E3FC;\n",
              "    }\n",
              "\n",
              "    [theme=dark] .colab-df-convert:hover {\n",
              "      background-color: #434B5C;\n",
              "      box-shadow: 0px 1px 3px 1px rgba(0, 0, 0, 0.15);\n",
              "      filter: drop-shadow(0px 1px 2px rgba(0, 0, 0, 0.3));\n",
              "      fill: #FFFFFF;\n",
              "    }\n",
              "  </style>\n",
              "\n",
              "      <script>\n",
              "        const buttonEl =\n",
              "          document.querySelector('#df-b97fdf80-2643-4eae-8eb4-4f25cc5bd315 button.colab-df-convert');\n",
              "        buttonEl.style.display =\n",
              "          google.colab.kernel.accessAllowed ? 'block' : 'none';\n",
              "\n",
              "        async function convertToInteractive(key) {\n",
              "          const element = document.querySelector('#df-b97fdf80-2643-4eae-8eb4-4f25cc5bd315');\n",
              "          const dataTable =\n",
              "            await google.colab.kernel.invokeFunction('convertToInteractive',\n",
              "                                                     [key], {});\n",
              "          if (!dataTable) return;\n",
              "\n",
              "          const docLinkHtml = 'Like what you see? Visit the ' +\n",
              "            '<a target=\"_blank\" href=https://colab.research.google.com/notebooks/data_table.ipynb>data table notebook</a>'\n",
              "            + ' to learn more about interactive tables.';\n",
              "          element.innerHTML = '';\n",
              "          dataTable['output_type'] = 'display_data';\n",
              "          await google.colab.output.renderOutput(dataTable, element);\n",
              "          const docLink = document.createElement('div');\n",
              "          docLink.innerHTML = docLinkHtml;\n",
              "          element.appendChild(docLink);\n",
              "        }\n",
              "      </script>\n",
              "    </div>\n",
              "  </div>\n",
              "  "
            ]
          },
          "metadata": {},
          "execution_count": 74
        }
      ]
    }
  ],
  "metadata": {
    "colab": {
      "collapsed_sections": [],
      "name": "Untitled0.ipynb",
      "provenance": []
    },
    "kernelspec": {
      "display_name": "Python 3",
      "name": "python3"
    },
    "language_info": {
      "name": "python"
    }
  },
  "nbformat": 4,
  "nbformat_minor": 0
}
